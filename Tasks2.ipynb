{
 "cells": [
  {
   "cell_type": "markdown",
   "id": "b04e0643",
   "metadata": {},
   "source": [
    "Now that you have succesfully loaded in spacecraft data and know how to calculate the power spectral density for magnetic field and velocity fluctuations we can now begin calculating turbulent statistics. \n",
    "\n",
    "**Task #1:** Use the autocorrelation function for the entire day to determine the proper window length to use for each interval. Recall, $\\tau_{crit}$ is found when the autocorrelation function crosses $e^{-1}$. Once this is defined, calculate the ensamble average for:\n",
    "\n",
    "1. **Alfvén Speed**\n",
    "2. **Plasma Beta $\\beta_{p}$**\n",
    "3. **$\\theta_{vb}$**\n",
    "4. **Normalized Cross-Helicity $\\sigma_{c}$**\n",
    "5. **Normalized Residual Energy $\\sigma_{r}$**\n",
    "\n",
    "Finally, what happens if you change the averaging window for the reported parameters?\n",
    "\n",
    "---\n",
    "\n",
    "**Task #2** Using the same windows as above, calculate the PSD for:\n",
    "\n",
    "1. $\\vec{B}$ - Magnetic field\n",
    "2. $\\vec{V}$ - Velocity\n",
    "3. $\\vec{Z}^{+}$ - Outward Elsasser Fluctuations\n",
    "4. $\\vec{Z}^{-}$ - Inward Elsasser Fluctuations\n",
    "\n",
    "Make sure to normalize the PSD of the magnetic field fluctuations into Alfvén units. What happens if you use the average density versus instantaneous density?\n",
    "\n",
    "For the Elsasser fluctuations, can you construct a version of these fluctuations such that +/- correspond to fluctuations always away/toward the Sun? Hint, what direction to Alfvén waves propagate along a magnetic field?\n",
    "\n",
    "---\n",
    "\n",
    "**Task #3** Investigate the wavelet transformation using the PyCWT pacakge (https://pycwt.readthedocs.io/en/latest/). Complete the tutorial. \n",
    "\n",
    "Once you have the tutorial completed, extend the method to the magnetic field and velocity data. Generate the PSD and the Wavelet Periodogram. \n",
    "\n",
    "---\n",
    "\n",
    "**Task #4** Use the high resolution magnetic field data and calculate the PSD. Use the wavelet transform and the FFT method and compare the spectra. Do this for a window on the order of $\\tau_{crit}$. \n",
    "\n",
    "---\n",
    "\n",
    "**(Optional) Tasks**\n",
    "\n",
    "Given that we have introduced the MHD equations, show that:\n",
    "1. Total energy $E = \\frac{1}{2} \\int \\left( |\\mathbf{v}|^2 + |\\mathbf{B}|^2 \\right) \\, d^3x$, where $\\mathbf{v} \\cdot \\mathbf{v} = |\\mathbf{v}|^2$ is constant. Show that the $\\partial E/\\partial t = 0$.\n",
    "2. Cross-helicity $H_c = \\int \\mathbf{v} \\cdot \\mathbf{B} \\, d^3x$ is constant.\n",
    "\n",
    "Recall the second-order structure function $S_2(\\tau) = \\langle |x(t+\\tau) - x(t)|^{2}\\rangle$. Show that:\n",
    "\n",
    "$S_2(\\tau) = 2\\int_{-\\infty}^{\\infty} P_{xx}(f)(1 - e^{i2\\pi f \\tau})df$,\n",
    "\n",
    "where $P_{xx}$ is the power spectral density.\n",
    "\n",
    "\n"
   ]
  },
  {
   "cell_type": "code",
   "execution_count": null,
   "id": "40611e20",
   "metadata": {
    "vscode": {
     "languageId": "plaintext"
    }
   },
   "outputs": [],
   "source": []
  }
 ],
 "metadata": {
  "language_info": {
   "name": "python"
  }
 },
 "nbformat": 4,
 "nbformat_minor": 5
}
