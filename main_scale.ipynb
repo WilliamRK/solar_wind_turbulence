{
 "cells": [
  {
   "cell_type": "code",
   "execution_count": 5,
   "id": "e2dccb58-433e-42bf-b844-6d4cfb8c9a47",
   "metadata": {},
   "outputs": [
    {
     "name": "stderr",
     "output_type": "stream",
     "text": [
      "15-Jul-25 14:32:56: Downloading remote index: https://spdf.gsfc.nasa.gov/pub/data/psp/fields/l2/mag_sc_4_per_cycle/2018/\n",
      "15-Jul-25 14:32:56: File is current: psp_data/fields/l2/mag_sc_4_per_cycle/2018/psp_fld_l2_mag_sc_4_sa_per_cyc_20181102_v02.cdf\n",
      "15-Jul-25 14:32:56: File is current: psp_data/fields/l2/mag_sc_4_per_cycle/2018/psp_fld_l2_mag_sc_4_sa_per_cyc_20181103_v02.cdf\n",
      "15-Jul-25 14:32:56: Downloading remote index: https://spdf.gsfc.nasa.gov/pub/data/psp/sweap/spc/l3/l3i/2018/\n"
     ]
    },
    {
     "name": "stdout",
     "output_type": "stream",
     "text": [
      "Using LEVEL=L3\n"
     ]
    },
    {
     "name": "stderr",
     "output_type": "stream",
     "text": [
      "15-Jul-25 14:32:56: File is current: psp_data/sweap/spc/l3/l3i/2018/psp_swp_spc_l3i_20181102_v01.cdf\n",
      "15-Jul-25 14:32:56: File is current: psp_data/sweap/spc/l3/l3i/2018/psp_swp_spc_l3i_20181103_v01.cdf\n",
      "15-Jul-25 14:32:56: Downloading remote index: https://spdf.gsfc.nasa.gov/pub/data/psp/fields/l2/mag_sc_4_per_cycle/2018/\n",
      "15-Jul-25 14:32:56: File is current: psp_data/fields/l2/mag_sc_4_per_cycle/2018/psp_fld_l2_mag_sc_4_sa_per_cyc_20181108_v02.cdf\n",
      "15-Jul-25 14:32:56: File is current: psp_data/fields/l2/mag_sc_4_per_cycle/2018/psp_fld_l2_mag_sc_4_sa_per_cyc_20181109_v02.cdf\n",
      "15-Jul-25 14:32:56: Downloading remote index: https://spdf.gsfc.nasa.gov/pub/data/psp/sweap/spc/l3/l3i/2018/\n"
     ]
    },
    {
     "name": "stdout",
     "output_type": "stream",
     "text": [
      "Using LEVEL=L3\n"
     ]
    },
    {
     "name": "stderr",
     "output_type": "stream",
     "text": [
      "15-Jul-25 14:32:56: File is current: psp_data/sweap/spc/l3/l3i/2018/psp_swp_spc_l3i_20181108_v01.cdf\n",
      "15-Jul-25 14:32:56: File is current: psp_data/sweap/spc/l3/l3i/2018/psp_swp_spc_l3i_20181109_v01.cdf\n",
      "15-Jul-25 14:32:56: Downloading remote index: https://spdf.gsfc.nasa.gov/pub/data/psp/fields/l2/mag_sc_4_per_cycle/2019/\n",
      "15-Jul-25 14:32:57: File is current: psp_data/fields/l2/mag_sc_4_per_cycle/2019/psp_fld_l2_mag_sc_4_sa_per_cyc_20190401_v02.cdf\n",
      "15-Jul-25 14:32:57: File is current: psp_data/fields/l2/mag_sc_4_per_cycle/2019/psp_fld_l2_mag_sc_4_sa_per_cyc_20190402_v02.cdf\n",
      "15-Jul-25 14:32:57: Downloading remote index: https://spdf.gsfc.nasa.gov/pub/data/psp/sweap/spc/l3/l3i/2019/\n"
     ]
    },
    {
     "name": "stdout",
     "output_type": "stream",
     "text": [
      "Using LEVEL=L3\n"
     ]
    },
    {
     "name": "stderr",
     "output_type": "stream",
     "text": [
      "15-Jul-25 14:32:57: File is current: psp_data/sweap/spc/l3/l3i/2019/psp_swp_spc_l3i_20190401_v01.cdf\n",
      "15-Jul-25 14:32:57: File is current: psp_data/sweap/spc/l3/l3i/2019/psp_swp_spc_l3i_20190402_v01.cdf\n",
      "15-Jul-25 14:32:57: Downloading remote index: https://spdf.gsfc.nasa.gov/pub/data/psp/fields/l2/mag_sc_4_per_cycle/2019/\n",
      "15-Jul-25 14:32:57: File is current: psp_data/fields/l2/mag_sc_4_per_cycle/2019/psp_fld_l2_mag_sc_4_sa_per_cyc_20190407_v02.cdf\n",
      "15-Jul-25 14:32:57: File is current: psp_data/fields/l2/mag_sc_4_per_cycle/2019/psp_fld_l2_mag_sc_4_sa_per_cyc_20190408_v02.cdf\n",
      "15-Jul-25 14:32:57: Downloading remote index: https://spdf.gsfc.nasa.gov/pub/data/psp/sweap/spc/l3/l3i/2019/\n"
     ]
    },
    {
     "name": "stdout",
     "output_type": "stream",
     "text": [
      "Using LEVEL=L3\n"
     ]
    },
    {
     "name": "stderr",
     "output_type": "stream",
     "text": [
      "15-Jul-25 14:32:57: File is current: psp_data/sweap/spc/l3/l3i/2019/psp_swp_spc_l3i_20190407_v01.cdf\n",
      "15-Jul-25 14:32:57: File is current: psp_data/sweap/spc/l3/l3i/2019/psp_swp_spc_l3i_20190408_v01.cdf\n",
      "15-Jul-25 14:32:57: Downloading remote index: https://spdf.gsfc.nasa.gov/pub/data/psp/fields/l2/mag_sc_4_per_cycle/2019/\n",
      "15-Jul-25 14:32:58: File is current: psp_data/fields/l2/mag_sc_4_per_cycle/2019/psp_fld_l2_mag_sc_4_sa_per_cyc_20190829_v02.cdf\n",
      "15-Jul-25 14:32:58: File is current: psp_data/fields/l2/mag_sc_4_per_cycle/2019/psp_fld_l2_mag_sc_4_sa_per_cyc_20190830_v02.cdf\n",
      "15-Jul-25 14:32:58: Downloading remote index: https://spdf.gsfc.nasa.gov/pub/data/psp/sweap/spc/l3/l3i/2019/\n"
     ]
    },
    {
     "name": "stdout",
     "output_type": "stream",
     "text": [
      "Using LEVEL=L3\n"
     ]
    },
    {
     "name": "stderr",
     "output_type": "stream",
     "text": [
      "15-Jul-25 14:32:58: File is current: psp_data/sweap/spc/l3/l3i/2019/psp_swp_spc_l3i_20190829_v01.cdf\n",
      "15-Jul-25 14:32:58: File is current: psp_data/sweap/spc/l3/l3i/2019/psp_swp_spc_l3i_20190830_v01.cdf\n",
      "15-Jul-25 14:32:58: Downloading remote index: https://spdf.gsfc.nasa.gov/pub/data/psp/fields/l2/mag_sc_4_per_cycle/2019/\n",
      "15-Jul-25 14:32:58: File is current: psp_data/fields/l2/mag_sc_4_per_cycle/2019/psp_fld_l2_mag_sc_4_sa_per_cyc_20190903_v02.cdf\n",
      "15-Jul-25 14:32:58: File is current: psp_data/fields/l2/mag_sc_4_per_cycle/2019/psp_fld_l2_mag_sc_4_sa_per_cyc_20190904_v02.cdf\n",
      "15-Jul-25 14:32:58: File is current: psp_data/fields/l2/mag_sc_4_per_cycle/2019/psp_fld_l2_mag_sc_4_sa_per_cyc_20190905_v02.cdf\n"
     ]
    },
    {
     "name": "stdout",
     "output_type": "stream",
     "text": [
      "Using LEVEL=L3\n"
     ]
    },
    {
     "name": "stderr",
     "output_type": "stream",
     "text": [
      "15-Jul-25 14:32:58: Downloading remote index: https://spdf.gsfc.nasa.gov/pub/data/psp/sweap/spc/l3/l3i/2019/\n",
      "15-Jul-25 14:32:58: No links matching pattern psp_swp_spc_l3i_20190903_v??.cdf found at remote index https://spdf.gsfc.nasa.gov/pub/data/psp/sweap/spc/l3/l3i/2019/\n",
      "15-Jul-25 14:32:58: No links matching pattern psp_swp_spc_l3i_20190904_v??.cdf found at remote index https://spdf.gsfc.nasa.gov/pub/data/psp/sweap/spc/l3/l3i/2019/\n",
      "15-Jul-25 14:32:58: No links matching pattern psp_swp_spc_l3i_20190905_v??.cdf found at remote index https://spdf.gsfc.nasa.gov/pub/data/psp/sweap/spc/l3/l3i/2019/\n",
      "15-Jul-25 14:32:58: Downloading remote index: https://spdf.gsfc.nasa.gov/pub/data/psp/fields/l2/mag_sc_4_per_cycle/2020/\n",
      "15-Jul-25 14:32:59: File is current: psp_data/fields/l2/mag_sc_4_per_cycle/2020/psp_fld_l2_mag_sc_4_sa_per_cyc_20200125_v02.cdf\n",
      "15-Jul-25 14:32:59: File is current: psp_data/fields/l2/mag_sc_4_per_cycle/2020/psp_fld_l2_mag_sc_4_sa_per_cyc_20200126_v02.cdf\n",
      "15-Jul-25 14:32:59: Downloading remote index: https://spdf.gsfc.nasa.gov/pub/data/psp/sweap/spc/l3/l3i/2020/\n"
     ]
    },
    {
     "name": "stdout",
     "output_type": "stream",
     "text": [
      "Using LEVEL=L3\n"
     ]
    },
    {
     "name": "stderr",
     "output_type": "stream",
     "text": [
      "15-Jul-25 14:32:59: File is current: psp_data/sweap/spc/l3/l3i/2020/psp_swp_spc_l3i_20200125_v02.cdf\n",
      "15-Jul-25 14:32:59: File is current: psp_data/sweap/spc/l3/l3i/2020/psp_swp_spc_l3i_20200126_v02.cdf\n",
      "15-Jul-25 14:32:59: Downloading remote index: https://spdf.gsfc.nasa.gov/pub/data/psp/fields/l2/mag_sc_4_per_cycle/2020/\n",
      "15-Jul-25 14:32:59: File is current: psp_data/fields/l2/mag_sc_4_per_cycle/2020/psp_fld_l2_mag_sc_4_sa_per_cyc_20200201_v02.cdf\n",
      "15-Jul-25 14:32:59: File is current: psp_data/fields/l2/mag_sc_4_per_cycle/2020/psp_fld_l2_mag_sc_4_sa_per_cyc_20200202_v02.cdf\n",
      "15-Jul-25 14:32:59: Downloading remote index: https://spdf.gsfc.nasa.gov/pub/data/psp/sweap/spc/l3/l3i/2020/\n"
     ]
    },
    {
     "name": "stdout",
     "output_type": "stream",
     "text": [
      "Using LEVEL=L3\n"
     ]
    },
    {
     "name": "stderr",
     "output_type": "stream",
     "text": [
      "15-Jul-25 14:32:59: File is current: psp_data/sweap/spc/l3/l3i/2020/psp_swp_spc_l3i_20200201_v02.cdf\n",
      "15-Jul-25 14:33:00: File is current: psp_data/sweap/spc/l3/l3i/2020/psp_swp_spc_l3i_20200202_v02.cdf\n",
      "15-Jul-25 14:33:00: Downloading remote index: https://spdf.gsfc.nasa.gov/pub/data/psp/fields/l2/mag_sc_4_per_cycle/2020/\n",
      "15-Jul-25 14:33:00: File is current: psp_data/fields/l2/mag_sc_4_per_cycle/2020/psp_fld_l2_mag_sc_4_sa_per_cyc_20200603_v02.cdf\n",
      "15-Jul-25 14:33:00: File is current: psp_data/fields/l2/mag_sc_4_per_cycle/2020/psp_fld_l2_mag_sc_4_sa_per_cyc_20200604_v02.cdf\n",
      "15-Jul-25 14:33:00: Downloading remote index: https://spdf.gsfc.nasa.gov/pub/data/psp/sweap/spc/l3/l3i/2020/\n"
     ]
    },
    {
     "name": "stdout",
     "output_type": "stream",
     "text": [
      "Using LEVEL=L3\n"
     ]
    },
    {
     "name": "stderr",
     "output_type": "stream",
     "text": [
      "15-Jul-25 14:33:00: File is current: psp_data/sweap/spc/l3/l3i/2020/psp_swp_spc_l3i_20200603_v02.cdf\n",
      "15-Jul-25 14:33:00: File is current: psp_data/sweap/spc/l3/l3i/2020/psp_swp_spc_l3i_20200604_v02.cdf\n",
      "15-Jul-25 14:33:00: Downloading remote index: https://spdf.gsfc.nasa.gov/pub/data/psp/fields/l2/mag_sc_4_per_cycle/2020/\n",
      "15-Jul-25 14:33:00: File is current: psp_data/fields/l2/mag_sc_4_per_cycle/2020/psp_fld_l2_mag_sc_4_sa_per_cyc_20200610_v02.cdf\n",
      "15-Jul-25 14:33:00: File is current: psp_data/fields/l2/mag_sc_4_per_cycle/2020/psp_fld_l2_mag_sc_4_sa_per_cyc_20200611_v02.cdf\n",
      "15-Jul-25 14:33:00: Downloading remote index: https://spdf.gsfc.nasa.gov/pub/data/psp/sweap/spc/l3/l3i/2020/\n"
     ]
    },
    {
     "name": "stdout",
     "output_type": "stream",
     "text": [
      "Using LEVEL=L3\n"
     ]
    },
    {
     "name": "stderr",
     "output_type": "stream",
     "text": [
      "15-Jul-25 14:33:01: File is current: psp_data/sweap/spc/l3/l3i/2020/psp_swp_spc_l3i_20200610_v02.cdf\n",
      "15-Jul-25 14:33:01: File is current: psp_data/sweap/spc/l3/l3i/2020/psp_swp_spc_l3i_20200611_v02.cdf\n",
      "15-Jul-25 14:33:01: Downloading remote index: https://spdf.gsfc.nasa.gov/pub/data/psp/fields/l2/mag_sc_4_per_cycle/2020/\n",
      "15-Jul-25 14:33:01: File is current: psp_data/fields/l2/mag_sc_4_per_cycle/2020/psp_fld_l2_mag_sc_4_sa_per_cyc_20200923_v02.cdf\n",
      "15-Jul-25 14:33:01: File is current: psp_data/fields/l2/mag_sc_4_per_cycle/2020/psp_fld_l2_mag_sc_4_sa_per_cyc_20200924_v02.cdf\n",
      "15-Jul-25 14:33:01: Downloading remote index: https://spdf.gsfc.nasa.gov/pub/data/psp/sweap/spc/l3/l3i/2020/\n"
     ]
    },
    {
     "name": "stdout",
     "output_type": "stream",
     "text": [
      "Using LEVEL=L3\n"
     ]
    },
    {
     "name": "stderr",
     "output_type": "stream",
     "text": [
      "15-Jul-25 14:33:01: File is current: psp_data/sweap/spc/l3/l3i/2020/psp_swp_spc_l3i_20200923_v02.cdf\n",
      "15-Jul-25 14:33:01: File is current: psp_data/sweap/spc/l3/l3i/2020/psp_swp_spc_l3i_20200924_v02.cdf\n",
      "15-Jul-25 14:33:01: Downloading remote index: https://spdf.gsfc.nasa.gov/pub/data/psp/fields/l2/mag_sc_4_per_cycle/2020/\n",
      "15-Jul-25 14:33:01: File is current: psp_data/fields/l2/mag_sc_4_per_cycle/2020/psp_fld_l2_mag_sc_4_sa_per_cyc_20200930_v02.cdf\n",
      "15-Jul-25 14:33:02: Downloading remote index: https://spdf.gsfc.nasa.gov/pub/data/psp/sweap/spc/l3/l3i/2020/\n"
     ]
    },
    {
     "name": "stdout",
     "output_type": "stream",
     "text": [
      "Using LEVEL=L3\n"
     ]
    },
    {
     "name": "stderr",
     "output_type": "stream",
     "text": [
      "15-Jul-25 14:33:02: File is current: psp_data/sweap/spc/l3/l3i/2020/psp_swp_spc_l3i_20200930_v02.cdf\n",
      "15-Jul-25 14:33:02: Downloading remote index: https://spdf.gsfc.nasa.gov/pub/data/psp/fields/l2/mag_sc_4_per_cycle/2021/\n",
      "15-Jul-25 14:33:02: File is current: psp_data/fields/l2/mag_sc_4_per_cycle/2021/psp_fld_l2_mag_sc_4_sa_per_cyc_20210114_v02.cdf\n",
      "15-Jul-25 14:33:02: File is current: psp_data/fields/l2/mag_sc_4_per_cycle/2021/psp_fld_l2_mag_sc_4_sa_per_cyc_20210115_v02.cdf\n",
      "15-Jul-25 14:33:02: Downloading remote index: https://spdf.gsfc.nasa.gov/pub/data/psp/sweap/spc/l3/l3i/2021/\n"
     ]
    },
    {
     "name": "stdout",
     "output_type": "stream",
     "text": [
      "Using LEVEL=L3\n"
     ]
    },
    {
     "name": "stderr",
     "output_type": "stream",
     "text": [
      "15-Jul-25 14:33:02: File is current: psp_data/sweap/spc/l3/l3i/2021/psp_swp_spc_l3i_20210114_v02.cdf\n",
      "15-Jul-25 14:33:02: File is current: psp_data/sweap/spc/l3/l3i/2021/psp_swp_spc_l3i_20210115_v02.cdf\n",
      "15-Jul-25 14:33:02: Downloading remote index: https://spdf.gsfc.nasa.gov/pub/data/psp/fields/l2/mag_sc_4_per_cycle/2021/\n",
      "15-Jul-25 14:33:02: File is current: psp_data/fields/l2/mag_sc_4_per_cycle/2021/psp_fld_l2_mag_sc_4_sa_per_cyc_20210120_v02.cdf\n",
      "15-Jul-25 14:33:02: File is current: psp_data/fields/l2/mag_sc_4_per_cycle/2021/psp_fld_l2_mag_sc_4_sa_per_cyc_20210121_v02.cdf\n",
      "15-Jul-25 14:33:02: Downloading remote index: https://spdf.gsfc.nasa.gov/pub/data/psp/sweap/spc/l3/l3i/2021/\n"
     ]
    },
    {
     "name": "stdout",
     "output_type": "stream",
     "text": [
      "Using LEVEL=L3\n"
     ]
    },
    {
     "name": "stderr",
     "output_type": "stream",
     "text": [
      "15-Jul-25 14:33:03: File is current: psp_data/sweap/spc/l3/l3i/2021/psp_swp_spc_l3i_20210120_v02.cdf\n",
      "15-Jul-25 14:33:03: File is current: psp_data/sweap/spc/l3/l3i/2021/psp_swp_spc_l3i_20210121_v02.cdf\n",
      "15-Jul-25 14:33:03: Downloading remote index: https://spdf.gsfc.nasa.gov/pub/data/psp/fields/l2/mag_sc_4_per_cycle/2021/\n",
      "15-Jul-25 14:33:03: File is current: psp_data/fields/l2/mag_sc_4_per_cycle/2021/psp_fld_l2_mag_sc_4_sa_per_cyc_20210426_v02.cdf\n",
      "15-Jul-25 14:33:03: Downloading remote index: https://spdf.gsfc.nasa.gov/pub/data/psp/sweap/spc/l3/l3i/2021/\n"
     ]
    },
    {
     "name": "stdout",
     "output_type": "stream",
     "text": [
      "Using LEVEL=L3\n"
     ]
    },
    {
     "name": "stderr",
     "output_type": "stream",
     "text": [
      "15-Jul-25 14:33:03: File is current: psp_data/sweap/spc/l3/l3i/2021/psp_swp_spc_l3i_20210426_v02.cdf\n",
      "15-Jul-25 14:33:03: Downloading remote index: https://spdf.gsfc.nasa.gov/pub/data/psp/fields/l2/mag_sc_4_per_cycle/2021/\n",
      "15-Jul-25 14:33:03: File is current: psp_data/fields/l2/mag_sc_4_per_cycle/2021/psp_fld_l2_mag_sc_4_sa_per_cyc_20210501_v02.cdf\n",
      "15-Jul-25 14:33:03: File is current: psp_data/fields/l2/mag_sc_4_per_cycle/2021/psp_fld_l2_mag_sc_4_sa_per_cyc_20210502_v02.cdf\n",
      "15-Jul-25 14:33:03: Downloading remote index: https://spdf.gsfc.nasa.gov/pub/data/psp/sweap/spc/l3/l3i/2021/\n"
     ]
    },
    {
     "name": "stdout",
     "output_type": "stream",
     "text": [
      "Using LEVEL=L3\n"
     ]
    },
    {
     "name": "stderr",
     "output_type": "stream",
     "text": [
      "15-Jul-25 14:33:05: Skipping remote index: https://spdf.gsfc.nasa.gov/pub/data/psp/sweap/spc/l3/l3i/2021/ (previous attempt failed)\n",
      "15-Jul-25 14:33:05: Downloading remote index: https://spdf.gsfc.nasa.gov/pub/data/psp/fields/l2/mag_sc_4_per_cycle/2021/\n",
      "15-Jul-25 14:33:06: File is current: psp_data/fields/l2/mag_sc_4_per_cycle/2021/psp_fld_l2_mag_sc_4_sa_per_cyc_20210806_v02.cdf\n",
      "15-Jul-25 14:33:06: File is current: psp_data/fields/l2/mag_sc_4_per_cycle/2021/psp_fld_l2_mag_sc_4_sa_per_cyc_20210807_v02.cdf\n",
      "15-Jul-25 14:33:06: Downloading remote index: https://spdf.gsfc.nasa.gov/pub/data/psp/sweap/spc/l3/l3i/2021/\n"
     ]
    },
    {
     "name": "stdout",
     "output_type": "stream",
     "text": [
      "Using LEVEL=L3\n"
     ]
    },
    {
     "name": "stderr",
     "output_type": "stream",
     "text": [
      "15-Jul-25 14:33:06: File is current: psp_data/sweap/spc/l3/l3i/2021/psp_swp_spc_l3i_20210806_v02.cdf\n",
      "15-Jul-25 14:33:06: File is current: psp_data/sweap/spc/l3/l3i/2021/psp_swp_spc_l3i_20210807_v02.cdf\n",
      "15-Jul-25 14:33:06: Downloading remote index: https://spdf.gsfc.nasa.gov/pub/data/psp/fields/l2/mag_sc_4_per_cycle/2021/\n",
      "15-Jul-25 14:33:06: File is current: psp_data/fields/l2/mag_sc_4_per_cycle/2021/psp_fld_l2_mag_sc_4_sa_per_cyc_20210812_v02.cdf\n",
      "15-Jul-25 14:33:06: Downloading remote index: https://spdf.gsfc.nasa.gov/pub/data/psp/sweap/spc/l3/l3i/2021/\n"
     ]
    },
    {
     "name": "stdout",
     "output_type": "stream",
     "text": [
      "Using LEVEL=L3\n"
     ]
    },
    {
     "name": "stderr",
     "output_type": "stream",
     "text": [
      "15-Jul-25 14:33:06: File is current: psp_data/sweap/spc/l3/l3i/2021/psp_swp_spc_l3i_20210812_v02.cdf\n",
      "15-Jul-25 14:33:06: Downloading remote index: https://spdf.gsfc.nasa.gov/pub/data/psp/fields/l2/mag_sc_4_per_cycle/2021/\n",
      "15-Jul-25 14:33:06: File is current: psp_data/fields/l2/mag_sc_4_per_cycle/2021/psp_fld_l2_mag_sc_4_sa_per_cyc_20211118_v02.cdf\n",
      "15-Jul-25 14:33:07: File is current: psp_data/fields/l2/mag_sc_4_per_cycle/2021/psp_fld_l2_mag_sc_4_sa_per_cyc_20211119_v02.cdf\n",
      "15-Jul-25 14:33:07: Downloading remote index: https://spdf.gsfc.nasa.gov/pub/data/psp/sweap/spc/l3/l3i/2021/\n"
     ]
    },
    {
     "name": "stdout",
     "output_type": "stream",
     "text": [
      "Using LEVEL=L3\n"
     ]
    },
    {
     "name": "stderr",
     "output_type": "stream",
     "text": [
      "15-Jul-25 14:33:07: File is current: psp_data/sweap/spc/l3/l3i/2021/psp_swp_spc_l3i_20211118_v02.cdf\n",
      "15-Jul-25 14:33:07: No links matching pattern psp_swp_spc_l3i_20211119_v??.cdf found at remote index https://spdf.gsfc.nasa.gov/pub/data/psp/sweap/spc/l3/l3i/2021/\n",
      "15-Jul-25 14:33:07: Downloading remote index: https://spdf.gsfc.nasa.gov/pub/data/psp/fields/l2/mag_sc_4_per_cycle/2021/\n",
      "15-Jul-25 14:33:07: File is current: psp_data/fields/l2/mag_sc_4_per_cycle/2021/psp_fld_l2_mag_sc_4_sa_per_cyc_20211123_v02.cdf\n",
      "15-Jul-25 14:33:07: File is current: psp_data/fields/l2/mag_sc_4_per_cycle/2021/psp_fld_l2_mag_sc_4_sa_per_cyc_20211124_v02.cdf\n",
      "15-Jul-25 14:33:07: Downloading remote index: https://spdf.gsfc.nasa.gov/pub/data/psp/sweap/spc/l3/l3i/2021/\n"
     ]
    },
    {
     "name": "stdout",
     "output_type": "stream",
     "text": [
      "Using LEVEL=L3\n"
     ]
    },
    {
     "name": "stderr",
     "output_type": "stream",
     "text": [
      "15-Jul-25 14:33:07: No links matching pattern psp_swp_spc_l3i_20211123_v??.cdf found at remote index https://spdf.gsfc.nasa.gov/pub/data/psp/sweap/spc/l3/l3i/2021/\n",
      "15-Jul-25 14:33:07: No links matching pattern psp_swp_spc_l3i_20211124_v??.cdf found at remote index https://spdf.gsfc.nasa.gov/pub/data/psp/sweap/spc/l3/l3i/2021/\n",
      "15-Jul-25 14:33:07: Downloading remote index: https://spdf.gsfc.nasa.gov/pub/data/psp/fields/l2/mag_sc_4_per_cycle/2022/\n",
      "15-Jul-25 14:33:07: File is current: psp_data/fields/l2/mag_sc_4_per_cycle/2022/psp_fld_l2_mag_sc_4_sa_per_cyc_20220222_v02.cdf\n",
      "15-Jul-25 14:33:07: File is current: psp_data/fields/l2/mag_sc_4_per_cycle/2022/psp_fld_l2_mag_sc_4_sa_per_cyc_20220223_v02.cdf\n",
      "15-Jul-25 14:33:07: Downloading remote index: https://spdf.gsfc.nasa.gov/pub/data/psp/sweap/spc/l3/l3i/2022/\n"
     ]
    },
    {
     "name": "stdout",
     "output_type": "stream",
     "text": [
      "Using LEVEL=L3\n"
     ]
    },
    {
     "name": "stderr",
     "output_type": "stream",
     "text": [
      "15-Jul-25 14:33:08: File is current: psp_data/sweap/spc/l3/l3i/2022/psp_swp_spc_l3i_20220222_v02.cdf\n",
      "15-Jul-25 14:33:08: File is current: psp_data/sweap/spc/l3/l3i/2022/psp_swp_spc_l3i_20220223_v02.cdf\n",
      "15-Jul-25 14:33:08: Downloading remote index: https://spdf.gsfc.nasa.gov/pub/data/psp/fields/l2/mag_sc_4_per_cycle/2022/\n",
      "15-Jul-25 14:33:08: File is current: psp_data/fields/l2/mag_sc_4_per_cycle/2022/psp_fld_l2_mag_sc_4_sa_per_cyc_20220227_v02.cdf\n",
      "15-Jul-25 14:33:08: File is current: psp_data/fields/l2/mag_sc_4_per_cycle/2022/psp_fld_l2_mag_sc_4_sa_per_cyc_20220228_v02.cdf\n",
      "15-Jul-25 14:33:08: Downloading remote index: https://spdf.gsfc.nasa.gov/pub/data/psp/sweap/spc/l3/l3i/2022/\n"
     ]
    },
    {
     "name": "stdout",
     "output_type": "stream",
     "text": [
      "Using LEVEL=L3\n"
     ]
    },
    {
     "name": "stderr",
     "output_type": "stream",
     "text": [
      "15-Jul-25 14:33:08: File is current: psp_data/sweap/spc/l3/l3i/2022/psp_swp_spc_l3i_20220227_v02.cdf\n",
      "15-Jul-25 14:33:08: File is current: psp_data/sweap/spc/l3/l3i/2022/psp_swp_spc_l3i_20220228_v02.cdf\n",
      "15-Jul-25 14:33:08: Downloading remote index: https://spdf.gsfc.nasa.gov/pub/data/psp/fields/l2/mag_sc_4_per_cycle/2022/\n",
      "15-Jul-25 14:33:08: File is current: psp_data/fields/l2/mag_sc_4_per_cycle/2022/psp_fld_l2_mag_sc_4_sa_per_cyc_20220530_v02.cdf\n",
      "15-Jul-25 14:33:08: Downloading remote index: https://spdf.gsfc.nasa.gov/pub/data/psp/sweap/spc/l3/l3i/2022/\n"
     ]
    },
    {
     "name": "stdout",
     "output_type": "stream",
     "text": [
      "Using LEVEL=L3\n"
     ]
    },
    {
     "name": "stderr",
     "output_type": "stream",
     "text": [
      "15-Jul-25 14:33:09: File is current: psp_data/sweap/spc/l3/l3i/2022/psp_swp_spc_l3i_20220530_v02.cdf\n",
      "15-Jul-25 14:33:09: Downloading remote index: https://spdf.gsfc.nasa.gov/pub/data/psp/fields/l2/mag_sc_4_per_cycle/2022/\n",
      "15-Jul-25 14:33:09: File is current: psp_data/fields/l2/mag_sc_4_per_cycle/2022/psp_fld_l2_mag_sc_4_sa_per_cyc_20220604_v02.cdf\n",
      "15-Jul-25 14:33:09: Downloading remote index: https://spdf.gsfc.nasa.gov/pub/data/psp/sweap/spc/l3/l3i/2022/\n"
     ]
    },
    {
     "name": "stdout",
     "output_type": "stream",
     "text": [
      "Using LEVEL=L3\n"
     ]
    },
    {
     "name": "stderr",
     "output_type": "stream",
     "text": [
      "15-Jul-25 14:33:09: File is current: psp_data/sweap/spc/l3/l3i/2022/psp_swp_spc_l3i_20220604_v02.cdf\n",
      "15-Jul-25 14:33:09: Downloading remote index: https://spdf.gsfc.nasa.gov/pub/data/psp/fields/l2/mag_sc_4_per_cycle/2022/\n",
      "15-Jul-25 14:33:09: File is current: psp_data/fields/l2/mag_sc_4_per_cycle/2022/psp_fld_l2_mag_sc_4_sa_per_cyc_20220903_v02.cdf\n",
      "15-Jul-25 14:33:09: Downloading remote index: https://spdf.gsfc.nasa.gov/pub/data/psp/sweap/spc/l3/l3i/2022/\n"
     ]
    },
    {
     "name": "stdout",
     "output_type": "stream",
     "text": [
      "Using LEVEL=L3\n"
     ]
    },
    {
     "name": "stderr",
     "output_type": "stream",
     "text": [
      "15-Jul-25 14:33:09: File is current: psp_data/sweap/spc/l3/l3i/2022/psp_swp_spc_l3i_20220903_v02.cdf\n",
      "15-Jul-25 14:33:09: Downloading remote index: https://spdf.gsfc.nasa.gov/pub/data/psp/fields/l2/mag_sc_4_per_cycle/2022/\n",
      "15-Jul-25 14:33:09: File is current: psp_data/fields/l2/mag_sc_4_per_cycle/2022/psp_fld_l2_mag_sc_4_sa_per_cyc_20220908_v02.cdf\n",
      "15-Jul-25 14:33:10: File is current: psp_data/fields/l2/mag_sc_4_per_cycle/2022/psp_fld_l2_mag_sc_4_sa_per_cyc_20220909_v02.cdf\n",
      "15-Jul-25 14:33:10: Downloading remote index: https://spdf.gsfc.nasa.gov/pub/data/psp/sweap/spc/l3/l3i/2022/\n"
     ]
    },
    {
     "name": "stdout",
     "output_type": "stream",
     "text": [
      "Using LEVEL=L3\n"
     ]
    },
    {
     "name": "stderr",
     "output_type": "stream",
     "text": [
      "15-Jul-25 14:33:10: File is current: psp_data/sweap/spc/l3/l3i/2022/psp_swp_spc_l3i_20220908_v02.cdf\n",
      "15-Jul-25 14:33:10: File is current: psp_data/sweap/spc/l3/l3i/2022/psp_swp_spc_l3i_20220909_v02.cdf\n",
      "15-Jul-25 14:33:10: Downloading remote index: https://spdf.gsfc.nasa.gov/pub/data/psp/fields/l2/mag_sc_4_per_cycle/2022/\n",
      "15-Jul-25 14:33:10: File is current: psp_data/fields/l2/mag_sc_4_per_cycle/2022/psp_fld_l2_mag_sc_4_sa_per_cyc_20221208_v02.cdf\n",
      "15-Jul-25 14:33:10: File is current: psp_data/fields/l2/mag_sc_4_per_cycle/2022/psp_fld_l2_mag_sc_4_sa_per_cyc_20221209_v02.cdf\n",
      "15-Jul-25 14:33:10: Downloading remote index: https://spdf.gsfc.nasa.gov/pub/data/psp/sweap/spc/l3/l3i/2022/\n"
     ]
    },
    {
     "name": "stdout",
     "output_type": "stream",
     "text": [
      "Using LEVEL=L3\n"
     ]
    },
    {
     "name": "stderr",
     "output_type": "stream",
     "text": [
      "15-Jul-25 14:33:10: File is current: psp_data/sweap/spc/l3/l3i/2022/psp_swp_spc_l3i_20221208_v02.cdf\n",
      "15-Jul-25 14:33:10: File is current: psp_data/sweap/spc/l3/l3i/2022/psp_swp_spc_l3i_20221209_v02.cdf\n",
      "15-Jul-25 14:33:10: Downloading remote index: https://spdf.gsfc.nasa.gov/pub/data/psp/fields/l2/mag_sc_4_per_cycle/2022/\n",
      "15-Jul-25 14:33:11: File is current: psp_data/fields/l2/mag_sc_4_per_cycle/2022/psp_fld_l2_mag_sc_4_sa_per_cyc_20221213_v02.cdf\n",
      "15-Jul-25 14:33:11: File is current: psp_data/fields/l2/mag_sc_4_per_cycle/2022/psp_fld_l2_mag_sc_4_sa_per_cyc_20221214_v02.cdf\n",
      "15-Jul-25 14:33:11: Downloading remote index: https://spdf.gsfc.nasa.gov/pub/data/psp/sweap/spc/l3/l3i/2022/\n"
     ]
    },
    {
     "name": "stdout",
     "output_type": "stream",
     "text": [
      "Using LEVEL=L3\n"
     ]
    },
    {
     "name": "stderr",
     "output_type": "stream",
     "text": [
      "15-Jul-25 14:33:11: File is current: psp_data/sweap/spc/l3/l3i/2022/psp_swp_spc_l3i_20221213_v02.cdf\n",
      "15-Jul-25 14:33:11: File is current: psp_data/sweap/spc/l3/l3i/2022/psp_swp_spc_l3i_20221214_v02.cdf\n",
      "15-Jul-25 14:33:11: Downloading remote index: https://spdf.gsfc.nasa.gov/pub/data/psp/fields/l2/mag_sc_4_per_cycle/2023/\n",
      "15-Jul-25 14:33:11: File is current: psp_data/fields/l2/mag_sc_4_per_cycle/2023/psp_fld_l2_mag_sc_4_sa_per_cyc_20230314_v02.cdf\n",
      "15-Jul-25 14:33:11: File is current: psp_data/fields/l2/mag_sc_4_per_cycle/2023/psp_fld_l2_mag_sc_4_sa_per_cyc_20230315_v02.cdf\n",
      "15-Jul-25 14:33:11: Downloading remote index: https://spdf.gsfc.nasa.gov/pub/data/psp/sweap/spc/l3/l3i/2023/\n"
     ]
    },
    {
     "name": "stdout",
     "output_type": "stream",
     "text": [
      "Using LEVEL=L3\n"
     ]
    },
    {
     "name": "stderr",
     "output_type": "stream",
     "text": [
      "15-Jul-25 14:33:13: Skipping remote index: https://spdf.gsfc.nasa.gov/pub/data/psp/sweap/spc/l3/l3i/2023/ (previous attempt failed)\n",
      "15-Jul-25 14:33:13: Downloading remote index: https://spdf.gsfc.nasa.gov/pub/data/psp/fields/l2/mag_sc_4_per_cycle/2023/\n",
      "15-Jul-25 14:33:13: File is current: psp_data/fields/l2/mag_sc_4_per_cycle/2023/psp_fld_l2_mag_sc_4_sa_per_cyc_20230320_v02.cdf\n",
      "15-Jul-25 14:33:13: Downloading remote index: https://spdf.gsfc.nasa.gov/pub/data/psp/sweap/spc/l3/l3i/2023/\n"
     ]
    },
    {
     "name": "stdout",
     "output_type": "stream",
     "text": [
      "Using LEVEL=L3\n"
     ]
    },
    {
     "name": "stderr",
     "output_type": "stream",
     "text": [
      "15-Jul-25 14:33:14: File is current: psp_data/sweap/spc/l3/l3i/2023/psp_swp_spc_l3i_20230320_v02.cdf\n",
      "15-Jul-25 14:33:14: Downloading remote index: https://spdf.gsfc.nasa.gov/pub/data/psp/fields/l2/mag_sc_4_per_cycle/2023/\n",
      "15-Jul-25 14:33:14: File is current: psp_data/fields/l2/mag_sc_4_per_cycle/2023/psp_fld_l2_mag_sc_4_sa_per_cyc_20230619_v02.cdf\n",
      "15-Jul-25 14:33:14: Downloading remote index: https://spdf.gsfc.nasa.gov/pub/data/psp/sweap/spc/l3/l3i/2023/\n"
     ]
    },
    {
     "name": "stdout",
     "output_type": "stream",
     "text": [
      "Using LEVEL=L3\n"
     ]
    },
    {
     "name": "stderr",
     "output_type": "stream",
     "text": [
      "15-Jul-25 14:33:14: File is current: psp_data/sweap/spc/l3/l3i/2023/psp_swp_spc_l3i_20230619_v02.cdf\n",
      "15-Jul-25 14:33:14: Downloading remote index: https://spdf.gsfc.nasa.gov/pub/data/psp/fields/l2/mag_sc_4_per_cycle/2023/\n",
      "15-Jul-25 14:33:14: File is current: psp_data/fields/l2/mag_sc_4_per_cycle/2023/psp_fld_l2_mag_sc_4_sa_per_cyc_20230624_v02.cdf\n",
      "15-Jul-25 14:33:14: File is current: psp_data/fields/l2/mag_sc_4_per_cycle/2023/psp_fld_l2_mag_sc_4_sa_per_cyc_20230625_v02.cdf\n",
      "15-Jul-25 14:33:14: Downloading remote index: https://spdf.gsfc.nasa.gov/pub/data/psp/sweap/spc/l3/l3i/2023/\n"
     ]
    },
    {
     "name": "stdout",
     "output_type": "stream",
     "text": [
      "Using LEVEL=L3\n"
     ]
    },
    {
     "name": "stderr",
     "output_type": "stream",
     "text": [
      "15-Jul-25 14:33:14: File is current: psp_data/sweap/spc/l3/l3i/2023/psp_swp_spc_l3i_20230624_v02.cdf\n",
      "15-Jul-25 14:33:14: File is current: psp_data/sweap/spc/l3/l3i/2023/psp_swp_spc_l3i_20230625_v02.cdf\n",
      "15-Jul-25 14:33:14: Downloading remote index: https://spdf.gsfc.nasa.gov/pub/data/psp/fields/l2/mag_sc_4_per_cycle/2023/\n",
      "15-Jul-25 14:33:15: File is current: psp_data/fields/l2/mag_sc_4_per_cycle/2023/psp_fld_l2_mag_sc_4_sa_per_cyc_20230925_v02.cdf\n",
      "15-Jul-25 14:33:15: Downloading remote index: https://spdf.gsfc.nasa.gov/pub/data/psp/sweap/spc/l3/l3i/2023/\n"
     ]
    },
    {
     "name": "stdout",
     "output_type": "stream",
     "text": [
      "Using LEVEL=L3\n"
     ]
    },
    {
     "name": "stderr",
     "output_type": "stream",
     "text": [
      "15-Jul-25 14:33:15: File is current: psp_data/sweap/spc/l3/l3i/2023/psp_swp_spc_l3i_20230925_v02.cdf\n",
      "15-Jul-25 14:33:15: Downloading remote index: https://spdf.gsfc.nasa.gov/pub/data/psp/fields/l2/mag_sc_4_per_cycle/2023/\n",
      "15-Jul-25 14:33:15: File is current: psp_data/fields/l2/mag_sc_4_per_cycle/2023/psp_fld_l2_mag_sc_4_sa_per_cyc_20230930_v02.cdf\n",
      "15-Jul-25 14:33:15: Downloading remote index: https://spdf.gsfc.nasa.gov/pub/data/psp/sweap/spc/l3/l3i/2023/\n"
     ]
    },
    {
     "name": "stdout",
     "output_type": "stream",
     "text": [
      "Using LEVEL=L3\n"
     ]
    },
    {
     "name": "stderr",
     "output_type": "stream",
     "text": [
      "15-Jul-25 14:33:15: File is current: psp_data/sweap/spc/l3/l3i/2023/psp_swp_spc_l3i_20230930_v02.cdf\n",
      "15-Jul-25 14:33:15: Downloading remote index: https://spdf.gsfc.nasa.gov/pub/data/psp/fields/l2/mag_sc_4_per_cycle/2023/\n",
      "15-Jul-25 14:33:15: File is current: psp_data/fields/l2/mag_sc_4_per_cycle/2023/psp_fld_l2_mag_sc_4_sa_per_cyc_20231226_v02.cdf\n",
      "15-Jul-25 14:33:15: Downloading remote index: https://spdf.gsfc.nasa.gov/pub/data/psp/sweap/spc/l3/l3i/2023/\n"
     ]
    },
    {
     "name": "stdout",
     "output_type": "stream",
     "text": [
      "Using LEVEL=L3\n"
     ]
    },
    {
     "name": "stderr",
     "output_type": "stream",
     "text": [
      "15-Jul-25 14:33:15: File is current: psp_data/sweap/spc/l3/l3i/2023/psp_swp_spc_l3i_20231226_v02.cdf\n",
      "15-Jul-25 14:33:15: Downloading remote index: https://spdf.gsfc.nasa.gov/pub/data/psp/fields/l2/mag_sc_4_per_cycle/2023/\n",
      "15-Jul-25 14:33:16: File is current: psp_data/fields/l2/mag_sc_4_per_cycle/2023/psp_fld_l2_mag_sc_4_sa_per_cyc_20231231_v02.cdf\n",
      "15-Jul-25 14:33:16: Downloading remote index: https://spdf.gsfc.nasa.gov/pub/data/psp/sweap/spc/l3/l3i/2023/\n"
     ]
    },
    {
     "name": "stdout",
     "output_type": "stream",
     "text": [
      "Using LEVEL=L3\n"
     ]
    },
    {
     "name": "stderr",
     "output_type": "stream",
     "text": [
      "15-Jul-25 14:33:16: File is current: psp_data/sweap/spc/l3/l3i/2023/psp_swp_spc_l3i_20231231_v02.cdf\n",
      "15-Jul-25 14:33:16: Downloading remote index: https://spdf.gsfc.nasa.gov/pub/data/psp/fields/l2/mag_sc_4_per_cycle/2024/\n",
      "15-Jul-25 14:33:16: File is current: psp_data/fields/l2/mag_sc_4_per_cycle/2024/psp_fld_l2_mag_sc_4_sa_per_cyc_20240327_v02.cdf\n",
      "15-Jul-25 14:33:16: File is current: psp_data/fields/l2/mag_sc_4_per_cycle/2024/psp_fld_l2_mag_sc_4_sa_per_cyc_20240328_v02.cdf\n",
      "15-Jul-25 14:33:16: Downloading remote index: https://spdf.gsfc.nasa.gov/pub/data/psp/sweap/spc/l3/l3i/2024/\n"
     ]
    },
    {
     "name": "stdout",
     "output_type": "stream",
     "text": [
      "Using LEVEL=L3\n"
     ]
    },
    {
     "name": "stderr",
     "output_type": "stream",
     "text": [
      "15-Jul-25 14:33:16: File is current: psp_data/sweap/spc/l3/l3i/2024/psp_swp_spc_l3i_20240327_v02.cdf\n",
      "15-Jul-25 14:33:16: File is current: psp_data/sweap/spc/l3/l3i/2024/psp_swp_spc_l3i_20240328_v02.cdf\n",
      "15-Jul-25 14:33:16: Downloading remote index: https://spdf.gsfc.nasa.gov/pub/data/psp/fields/l2/mag_sc_4_per_cycle/2024/\n",
      "15-Jul-25 14:33:16: File is current: psp_data/fields/l2/mag_sc_4_per_cycle/2024/psp_fld_l2_mag_sc_4_sa_per_cyc_20240401_v02.cdf\n",
      "15-Jul-25 14:33:16: Downloading remote index: https://spdf.gsfc.nasa.gov/pub/data/psp/sweap/spc/l3/l3i/2024/\n"
     ]
    },
    {
     "name": "stdout",
     "output_type": "stream",
     "text": [
      "Using LEVEL=L3\n"
     ]
    },
    {
     "name": "stderr",
     "output_type": "stream",
     "text": [
      "15-Jul-25 14:33:17: File is current: psp_data/sweap/spc/l3/l3i/2024/psp_swp_spc_l3i_20240401_v02.cdf\n",
      "15-Jul-25 14:33:17: Downloading remote index: https://spdf.gsfc.nasa.gov/pub/data/psp/fields/l2/mag_sc_4_per_cycle/2024/\n",
      "15-Jul-25 14:33:17: File is current: psp_data/fields/l2/mag_sc_4_per_cycle/2024/psp_fld_l2_mag_sc_4_sa_per_cyc_20240627_v02.cdf\n",
      "15-Jul-25 14:33:17: File is current: psp_data/fields/l2/mag_sc_4_per_cycle/2024/psp_fld_l2_mag_sc_4_sa_per_cyc_20240628_v02.cdf\n",
      "15-Jul-25 14:33:17: Downloading remote index: https://spdf.gsfc.nasa.gov/pub/data/psp/sweap/spc/l3/l3i/2024/\n"
     ]
    },
    {
     "name": "stdout",
     "output_type": "stream",
     "text": [
      "Using LEVEL=L3\n"
     ]
    },
    {
     "name": "stderr",
     "output_type": "stream",
     "text": [
      "15-Jul-25 14:33:17: File is current: psp_data/sweap/spc/l3/l3i/2024/psp_swp_spc_l3i_20240627_v02.cdf\n",
      "15-Jul-25 14:33:17: No links matching pattern psp_swp_spc_l3i_20240628_v??.cdf found at remote index https://spdf.gsfc.nasa.gov/pub/data/psp/sweap/spc/l3/l3i/2024/\n",
      "15-Jul-25 14:33:17: Downloading remote index: https://spdf.gsfc.nasa.gov/pub/data/psp/fields/l2/mag_sc_4_per_cycle/2024/\n",
      "15-Jul-25 14:33:17: File is current: psp_data/fields/l2/mag_sc_4_per_cycle/2024/psp_fld_l2_mag_sc_4_sa_per_cyc_20240702_v02.cdf\n",
      "15-Jul-25 14:33:17: Downloading remote index: https://spdf.gsfc.nasa.gov/pub/data/psp/sweap/spc/l3/l3i/2024/\n"
     ]
    },
    {
     "name": "stdout",
     "output_type": "stream",
     "text": [
      "Using LEVEL=L3\n"
     ]
    },
    {
     "name": "stderr",
     "output_type": "stream",
     "text": [
      "15-Jul-25 14:33:17: File is current: psp_data/sweap/spc/l3/l3i/2024/psp_swp_spc_l3i_20240702_v02.cdf\n",
      "15-Jul-25 14:33:17: Downloading remote index: https://spdf.gsfc.nasa.gov/pub/data/psp/fields/l2/mag_sc_4_per_cycle/2024/\n",
      "15-Jul-25 14:33:18: File is current: psp_data/fields/l2/mag_sc_4_per_cycle/2024/psp_fld_l2_mag_sc_4_sa_per_cyc_20240927_v02.cdf\n",
      "15-Jul-25 14:33:18: File is current: psp_data/fields/l2/mag_sc_4_per_cycle/2024/psp_fld_l2_mag_sc_4_sa_per_cyc_20240928_v02.cdf\n",
      "15-Jul-25 14:33:18: Downloading remote index: https://spdf.gsfc.nasa.gov/pub/data/psp/sweap/spc/l3/l3i/2024/\n"
     ]
    },
    {
     "name": "stdout",
     "output_type": "stream",
     "text": [
      "Using LEVEL=L3\n"
     ]
    },
    {
     "name": "stderr",
     "output_type": "stream",
     "text": [
      "15-Jul-25 14:33:18: File is current: psp_data/sweap/spc/l3/l3i/2024/psp_swp_spc_l3i_20240927_v02.cdf\n",
      "15-Jul-25 14:33:18: No links matching pattern psp_swp_spc_l3i_20240928_v??.cdf found at remote index https://spdf.gsfc.nasa.gov/pub/data/psp/sweap/spc/l3/l3i/2024/\n",
      "15-Jul-25 14:33:18: Downloading remote index: https://spdf.gsfc.nasa.gov/pub/data/psp/fields/l2/mag_sc_4_per_cycle/2024/\n",
      "15-Jul-25 14:33:18: File is current: psp_data/fields/l2/mag_sc_4_per_cycle/2024/psp_fld_l2_mag_sc_4_sa_per_cyc_20241002_v02.cdf\n",
      "15-Jul-25 14:33:18: Downloading remote index: https://spdf.gsfc.nasa.gov/pub/data/psp/sweap/spc/l3/l3i/2024/\n"
     ]
    },
    {
     "name": "stdout",
     "output_type": "stream",
     "text": [
      "Using LEVEL=L3\n"
     ]
    },
    {
     "name": "stderr",
     "output_type": "stream",
     "text": [
      "15-Jul-25 14:33:18: File is current: psp_data/sweap/spc/l3/l3i/2024/psp_swp_spc_l3i_20241002_v02.cdf\n",
      "15-Jul-25 14:33:18: Downloading remote index: https://spdf.gsfc.nasa.gov/pub/data/psp/fields/l2/mag_sc_4_per_cycle/2024/\n",
      "15-Jul-25 14:33:18: No links matching pattern psp_fld_l2_mag_sc_4_sa_per_cyc_20241221_v??.cdf found at remote index https://spdf.gsfc.nasa.gov/pub/data/psp/fields/l2/mag_sc_4_per_cycle/2024/\n",
      "15-Jul-25 14:33:18: No links matching pattern psp_fld_l2_mag_sc_4_sa_per_cyc_20241222_v??.cdf found at remote index https://spdf.gsfc.nasa.gov/pub/data/psp/fields/l2/mag_sc_4_per_cycle/2024/\n",
      "15-Jul-25 14:33:18: Downloading remote index: https://spdf.gsfc.nasa.gov/pub/data/psp/sweap/spc/l3/l3i/2024/\n"
     ]
    },
    {
     "name": "stdout",
     "output_type": "stream",
     "text": [
      "Using LEVEL=L3\n"
     ]
    },
    {
     "name": "stderr",
     "output_type": "stream",
     "text": [
      "15-Jul-25 14:33:18: No links matching pattern psp_swp_spc_l3i_20241221_v??.cdf found at remote index https://spdf.gsfc.nasa.gov/pub/data/psp/sweap/spc/l3/l3i/2024/\n",
      "15-Jul-25 14:33:18: No links matching pattern psp_swp_spc_l3i_20241222_v??.cdf found at remote index https://spdf.gsfc.nasa.gov/pub/data/psp/sweap/spc/l3/l3i/2024/\n",
      "15-Jul-25 14:33:18: Downloading remote index: https://spdf.gsfc.nasa.gov/pub/data/psp/fields/l2/mag_sc_4_per_cycle/2024/\n",
      "15-Jul-25 14:33:19: No links matching pattern psp_fld_l2_mag_sc_4_sa_per_cyc_20241226_v??.cdf found at remote index https://spdf.gsfc.nasa.gov/pub/data/psp/fields/l2/mag_sc_4_per_cycle/2024/\n",
      "15-Jul-25 14:33:19: Downloading remote index: https://spdf.gsfc.nasa.gov/pub/data/psp/sweap/spc/l3/l3i/2024/\n"
     ]
    },
    {
     "name": "stdout",
     "output_type": "stream",
     "text": [
      "Using LEVEL=L3\n"
     ]
    },
    {
     "name": "stderr",
     "output_type": "stream",
     "text": [
      "15-Jul-25 14:33:19: No links matching pattern psp_swp_spc_l3i_20241226_v??.cdf found at remote index https://spdf.gsfc.nasa.gov/pub/data/psp/sweap/spc/l3/l3i/2024/\n",
      "15-Jul-25 14:33:19: Downloading remote index: https://spdf.gsfc.nasa.gov/pub/data/psp/fields/l2/mag_sc_4_per_cycle/2025/\n",
      "15-Jul-25 14:33:19: Remote index not found: https://spdf.gsfc.nasa.gov/pub/data/psp/fields/l2/mag_sc_4_per_cycle/2025/\n",
      "15-Jul-25 14:33:21: Downloading remote index: https://spdf.gsfc.nasa.gov/pub/data/psp/sweap/spc/l3/l3i/2025/\n"
     ]
    },
    {
     "name": "stdout",
     "output_type": "stream",
     "text": [
      "Using LEVEL=L3\n"
     ]
    },
    {
     "name": "stderr",
     "output_type": "stream",
     "text": [
      "15-Jul-25 14:33:21: Remote index not found: https://spdf.gsfc.nasa.gov/pub/data/psp/sweap/spc/l3/l3i/2025/\n",
      "15-Jul-25 14:33:23: Downloading remote index: https://spdf.gsfc.nasa.gov/pub/data/psp/fields/l2/mag_sc_4_per_cycle/2025/\n",
      "15-Jul-25 14:33:23: Remote index not found: https://spdf.gsfc.nasa.gov/pub/data/psp/fields/l2/mag_sc_4_per_cycle/2025/\n",
      "15-Jul-25 14:33:25: Skipping remote index: https://spdf.gsfc.nasa.gov/pub/data/psp/fields/l2/mag_sc_4_per_cycle/2025/ (previous attempt failed)\n",
      "15-Jul-25 14:33:25: Downloading remote index: https://spdf.gsfc.nasa.gov/pub/data/psp/sweap/spc/l3/l3i/2025/\n"
     ]
    },
    {
     "name": "stdout",
     "output_type": "stream",
     "text": [
      "Using LEVEL=L3\n"
     ]
    },
    {
     "name": "stderr",
     "output_type": "stream",
     "text": [
      "15-Jul-25 14:33:25: Remote index not found: https://spdf.gsfc.nasa.gov/pub/data/psp/sweap/spc/l3/l3i/2025/\n",
      "15-Jul-25 14:33:27: Skipping remote index: https://spdf.gsfc.nasa.gov/pub/data/psp/sweap/spc/l3/l3i/2025/ (previous attempt failed)\n",
      "15-Jul-25 14:33:27: Downloading remote index: https://spdf.gsfc.nasa.gov/pub/data/psp/fields/l2/mag_sc_4_per_cycle/2025/\n",
      "15-Jul-25 14:33:27: Remote index not found: https://spdf.gsfc.nasa.gov/pub/data/psp/fields/l2/mag_sc_4_per_cycle/2025/\n",
      "15-Jul-25 14:33:29: Skipping remote index: https://spdf.gsfc.nasa.gov/pub/data/psp/fields/l2/mag_sc_4_per_cycle/2025/ (previous attempt failed)\n",
      "15-Jul-25 14:33:29: Downloading remote index: https://spdf.gsfc.nasa.gov/pub/data/psp/sweap/spc/l3/l3i/2025/\n"
     ]
    },
    {
     "name": "stdout",
     "output_type": "stream",
     "text": [
      "Using LEVEL=L3\n"
     ]
    },
    {
     "name": "stderr",
     "output_type": "stream",
     "text": [
      "15-Jul-25 14:33:29: Remote index not found: https://spdf.gsfc.nasa.gov/pub/data/psp/sweap/spc/l3/l3i/2025/\n",
      "15-Jul-25 14:33:31: Skipping remote index: https://spdf.gsfc.nasa.gov/pub/data/psp/sweap/spc/l3/l3i/2025/ (previous attempt failed)\n",
      "15-Jul-25 14:33:31: Downloading remote index: https://spdf.gsfc.nasa.gov/pub/data/psp/fields/l2/mag_sc_4_per_cycle/2025/\n",
      "15-Jul-25 14:33:31: Remote index not found: https://spdf.gsfc.nasa.gov/pub/data/psp/fields/l2/mag_sc_4_per_cycle/2025/\n",
      "15-Jul-25 14:33:33: Downloading remote index: https://spdf.gsfc.nasa.gov/pub/data/psp/sweap/spc/l3/l3i/2025/\n"
     ]
    },
    {
     "name": "stdout",
     "output_type": "stream",
     "text": [
      "Using LEVEL=L3\n"
     ]
    },
    {
     "name": "stderr",
     "output_type": "stream",
     "text": [
      "15-Jul-25 14:33:34: Remote index not found: https://spdf.gsfc.nasa.gov/pub/data/psp/sweap/spc/l3/l3i/2025/\n"
     ]
    }
   ],
   "source": [
    "%matplotlib inline\n",
    "#!/usr/bin/env python3\n",
    "\"\"\"\n",
    "Driver script for fast-radial-scan analysis.\n",
    "Processes one FRS at a time and prompts user between intervals.\n",
    "\"\"\"\n",
    "import functions as fn\n",
    "import numpy as np\n",
    "import pandas as pd\n",
    "import matplotlib.pyplot as plt\n",
    "import glob\n",
    "import os\n",
    "import shutil\n",
    "\n",
    "def cleanup_previous_outputs():\n",
    "    \"\"\"Delete any previous outputs before next FRS run.\"\"\"\n",
    "    # delete all per-window CSVs\n",
    "    for f in glob.glob(\"derived_range_*.csv\"):\n",
    "        os.remove(f)\n",
    "    # optionally also remove summary CSV\n",
    "    if os.path.exists(\"high_sigma_low_beta_windows.csv\"):\n",
    "        os.remove(\"high_sigma_low_beta_windows.csv\")\n",
    "    print(\"🧹 Previous outputs removed.\")\n",
    "\n",
    "def main():\n",
    "    time_ranges = fn.parse_time_ranges_from_file(\"PSP_fastRadialScans.txt\")\n",
    "    fields_files, spc_files = fn.download_psp_data(time_ranges)\n",
    "    fields_xrs , spc_xrs    = fn.convert_all_cdf_to_xarray(fields_files, spc_files)\n",
    "\n",
    "    frs_sec = [(fn.datetime64_to_j2000_seconds(s),\n",
    "                fn.datetime64_to_j2000_seconds(e)) for s,e in time_ranges]\n",
    "\n",
    "    for i,(fxr,sxr) in enumerate(zip(fields_xrs, spc_xrs)):\n",
    "        if fxr is None or sxr is None: continue\n",
    "        print(f\"\\n🔹 Processing range {i}: {time_ranges[i]}\")\n",
    "\n",
    "        selected = []\n",
    "        cleanup_previous_outputs()  # wipe any outputs before this FRS\n",
    "\n",
    "        B,V,n,wp,tB,tSC = fn.extract_psp_data(fxr,sxr)\n",
    "        B_int,Bmag,Vmag,t = fn.process_range_wavelet(B,V,n,wp,tB,tSC)\n",
    "\n",
    "        wins = fn.generate_valid_windows_aligned(\n",
    "                   t, B_int, V, *frs_sec[i])\n",
    "\n",
    "        for w_idx,(ws,we) in enumerate(wins):\n",
    "            mask = (t>=ws)&(t<we)\n",
    "            t_win,B_win,V_win,n_win = t[mask],B_int[mask],V[mask],n[mask]\n",
    "            fs = 1/np.median(np.diff(t_win))\n",
    "\n",
    "            csv_name = f\"derived_range_{i:02d}_win_{w_idx:02d}.csv\"\n",
    "            fn.calculate_derived_parameters_to_csv(\n",
    "                B_win, V_win, n_win, wp[mask], t_win,\n",
    "                fn.j2000_to_iso(ws), fn.j2000_to_iso(we), csv_name)\n",
    "\n",
    "            # PSD panel\n",
    "            fB,PB = fn.trace_psd(B_win, fs)\n",
    "            fV,PV = fn.trace_psd(V_win, fs)\n",
    "            Zp,Zm = fn.compute_elsasser(V_win,B_win,n_win)\n",
    "            fZp,PZp = fn.trace_psd(Zp,fs)\n",
    "            fZm,PZm = fn.trace_psd(Zm,fs)\n",
    "\n",
    "            plt.figure(figsize=(9,5))\n",
    "            plt.loglog(fB,PB,label=\"Trace B\")\n",
    "            plt.loglog(fV,PV,label=\"Trace V\")\n",
    "            plt.loglog(fZp,PZp,label=\"Trace Z+\")\n",
    "            plt.loglog(fZm,PZm,label=\"Trace Z−\")\n",
    "            plt.title(f\"Trace PSD  {fn.j2000_to_iso(ws)} – {fn.j2000_to_iso(we)}\")\n",
    "            plt.xlabel(\"f [Hz]\"); plt.ylabel(\"PSD [(km/s)² Hz⁻¹]\")\n",
    "            plt.grid(True,which=\"both\",ls=\"--\",lw=0.4); plt.legend()\n",
    "            plt.tight_layout(); plt.show()\n",
    "\n",
    "            # Wavelet diagnostics\n",
    "            try:\n",
    "                fn.analyze_wavelet_for_range(\n",
    "                    t_win, B_win, V_win,\n",
    "                    np.linalg.norm(B_win,1),\n",
    "                    np.linalg.norm(V_win,1),\n",
    "                    (ws,we))\n",
    "            except Exception as e:\n",
    "                print(\"⚠️ wavelet skipped:\", e)\n",
    "\n",
    "            beta_mean = np.nanmean(0.03948*n_win*wp[mask]/np.clip(Bmag[mask]**2,1e-12,None))\n",
    "            if fn.compute_sigma_c(V_win,B_win) > .5 and beta_mean < .4:\n",
    "                selected.append({\n",
    "                    \"range_idx\":i,\"window_idx\":w_idx,\n",
    "                    \"start_iso\":fn.j2000_to_iso(ws),\n",
    "                    \"end_iso\":fn.j2000_to_iso(we),\n",
    "                    \"beta_p\":round(beta_mean,3)\n",
    "                })\n",
    "\n",
    "        if selected:\n",
    "            pd.DataFrame(selected).to_csv(\"high_sigma_low_beta_windows.csv\",index=False)\n",
    "            print(\"✅ Wrote summary of qualifying windows.\")\n",
    "        else:\n",
    "            print(\"⚠️ No windows satisfied selection criteria.\")\n",
    "\n",
    "        # ───── Ask user whether to continue ─────\n",
    "        resp = input(f\"➡️  Finished FRS {i}. Continue to next interval? [y/N]: \").strip().lower()\n",
    "        if resp != \"y\":\n",
    "            print(\"👋 Exiting after current FRS.\")\n",
    "            break\n",
    "\n",
    "if __name__ == \"__main__\":\n",
    "    main()"
   ]
  },
  {
   "cell_type": "code",
   "execution_count": 3,
   "id": "ff63bb79-843f-42b0-8657-09a6403d58a6",
   "metadata": {},
   "outputs": [
    {
     "name": "stdout",
     "output_type": "stream",
     "text": [
      "/home/williamrkiv/solar_wind_turbulence\n",
      "['/home/williamrkiv/miniforge3/envs/cfa_reu/lib/python311.zip', '/home/williamrkiv/miniforge3/envs/cfa_reu/lib/python3.11', '/home/williamrkiv/miniforge3/envs/cfa_reu/lib/python3.11/lib-dynload', '', '/home/williamrkiv/miniforge3/envs/cfa_reu/lib/python3.11/site-packages']\n",
      "acf.png\n",
      "assign.ipynb\n",
      "assign.py\n",
      "crosshelicity.png\n",
      "density_derived_theta.png\n",
      "derived_parameters_range_00_window_00.csv\n",
      "derived_parameters_range_00_window_01.csv\n",
      "derived_parameters_range_00_window_02.csv\n",
      "derived_parameters_range_00_window_03.csv\n",
      "derived_parameters_range_00_window_04.csv\n",
      "derived_parameters_range_00_window_05.csv\n",
      "derived_parameters_range_00_window_06.csv\n",
      "derived_parameters_range_00_window_07.csv\n",
      "derived_parameters_range_00_window_08.csv\n",
      "derived_parameters_range_00_window_09.csv\n",
      "derived_parameters_range_00_window_10.csv\n",
      "derived_parameters_range_00_window_11.csv\n",
      "derived_parameters_range_00_window_12.csv\n",
      "derived_parameters_range_00_window_13.csv\n",
      "derived_parameters_range_00_window_14.csv\n",
      "derived_parameters_range_00_window_15.csv\n",
      "derived_parameters_range_00_window_16.csv\n",
      "derived_parameters_range_00_window_17.csv\n",
      "derived_parameters_range_00_window_18.csv\n",
      "derived_parameters_range_00_window_19.csv\n",
      "derived_parameters_range_00_window_20.csv\n",
      "derived_parameters_range_00_window_21.csv\n",
      "derived_parameters_range_00_window_22.csv\n",
      "derived_parameters_range_00_window_23.csv\n",
      "derived_parameters_range_01_window_00.csv\n",
      "derived_parameters_range_01_window_01.csv\n",
      "derived_parameters_range_01_window_02.csv\n",
      "derived_parameters_range_01_window_03.csv\n",
      "derived_parameters_range_01_window_04.csv\n",
      "derived_parameters_range_01_window_05.csv\n",
      "derived_parameters_range_01_window_06.csv\n",
      "derived_parameters_range_01_window_07.csv\n",
      "derived_parameters_range_01_window_08.csv\n",
      "derived_parameters_range_01_window_09.csv\n",
      "derived_parameters_range_01_window_10.csv\n",
      "derived_parameters_range_01_window_11.csv\n",
      "derived_parameters_range_01_window_12.csv\n",
      "derived_parameters_range_01_window_13.csv\n",
      "derived_parameters_range_01_window_14.csv\n",
      "derived_parameters_range_01_window_15.csv\n",
      "derived_parameters_range_01_window_16.csv\n",
      "derived_parameters_range_01_window_17.csv\n",
      "derived_parameters_range_01_window_18.csv\n",
      "derived_parameters_range_01_window_19.csv\n",
      "derived_parameters_range_01_window_20.csv\n",
      "derived_parameters_range_01_window_21.csv\n",
      "derived_parameters_range_01_window_22.csv\n",
      "derived_parameters_range_04_window_00.csv\n",
      "derived_parameters_range_04_window_01.csv\n",
      "derived_parameters_range_04_window_02.csv\n",
      "derived_parameters_range_04_window_03.csv\n",
      "derived_parameters_range_04_window_04.csv\n",
      "derived_parameters_range_04_window_05.csv\n",
      "derived_parameters_range_04_window_06.csv\n",
      "derived_parameters_range_04_window_07.csv\n",
      "derived_parameters_range_04_window_08.csv\n",
      "derived_parameters_range_04_window_09.csv\n",
      "derived_parameters_range_04_window_10.csv\n",
      "derived_parameters_range_04_window_11.csv\n",
      "derived_parameters_range_04_window_12.csv\n",
      "derived_parameters_range_04_window_13.csv\n",
      "derived_parameters_range_04_window_14.csv\n",
      "derived_parameters_range_04_window_15.csv\n",
      "derived_parameters_range_04_window_16.csv\n",
      "derived_parameters_range_04_window_17.csv\n",
      "derived_parameters_range_04_window_18.csv\n",
      "derived_parameters_range_04_window_19.csv\n",
      "derived_parameters_range_04_window_20.csv\n",
      "derived_parameters_range_04_window_21.csv\n",
      "derived_parameters_range_04_window_22.csv\n",
      "derived_parameters_range_05_window_00.csv\n",
      "derived_parameters_range_05_window_01.csv\n",
      "derived_parameters_range_05_window_02.csv\n",
      "derived_parameters_range_05_window_03.csv\n",
      "derived_parameters_range_05_window_04.csv\n",
      "derived_parameters_range_05_window_05.csv\n",
      "derived_parameters_range_05_window_06.csv\n",
      "derived_parameters_range_05_window_07.csv\n",
      "derived_parameters_range_05_window_08.csv\n",
      "derived_parameters_range_05_window_09.csv\n",
      "derived_parameters_range_05_window_10.csv\n",
      "derived_parameters_range_05_window_11.csv\n",
      "derived_parameters_range_05_window_12.csv\n",
      "derived_parameters_range_05_window_13.csv\n",
      "derived_parameters_range_05_window_14.csv\n",
      "derived_parameters_range_05_window_15.csv\n",
      "derived_parameters_range_05_window_16.csv\n",
      "derived_parameters_range_05_window_17.csv\n",
      "derived_parameters_range_05_window_18.csv\n",
      "derived_parameters_range_05_window_19.csv\n",
      "derived_parameters_range_05_window_20.csv\n",
      "derived_parameters_range_05_window_21.csv\n",
      "derived_parameters_range_05_window_22.csv\n",
      "derived_parameters_range_06_window_00.csv\n",
      "derived_parameters_range_06_window_01.csv\n",
      "derived_parameters_range_06_window_02.csv\n",
      "derived_parameters_range_06_window_03.csv\n",
      "derived_parameters_range_06_window_04.csv\n",
      "derived_parameters_range_06_window_05.csv\n",
      "derived_parameters_range_06_window_06.csv\n",
      "derived_parameters_range_06_window_07.csv\n",
      "derived_parameters_range_06_window_08.csv\n",
      "derived_parameters_range_06_window_09.csv\n",
      "derived_parameters_range_06_window_10.csv\n",
      "derived_parameters_range_06_window_11.csv\n",
      "derived_parameters_range_06_window_12.csv\n",
      "derived_parameters_range_06_window_13.csv\n",
      "derived_parameters_range_06_window_14.csv\n",
      "derived_parameters_range_06_window_15.csv\n",
      "derived_parameters_range_06_window_16.csv\n",
      "derived_parameters_range_06_window_17.csv\n",
      "derived_parameters_range_06_window_18.csv\n",
      "derived_parameters_range_06_window_19.csv\n",
      "derived_parameters_range_06_window_20.csv\n",
      "derived_parameters_range_06_window_21.csv\n",
      "derived_parameters_range_06_window_22.csv\n",
      "derived_parameters_range_07_window_00.csv\n",
      "derived_parameters_range_07_window_01.csv\n",
      "derived_parameters_range_07_window_02.csv\n",
      "derived_parameters_range_07_window_03.csv\n",
      "derived_parameters_range_07_window_04.csv\n",
      "derived_parameters_range_07_window_05.csv\n",
      "derived_parameters_range_07_window_06.csv\n",
      "derived_parameters_range_07_window_07.csv\n",
      "derived_parameters_range_07_window_08.csv\n",
      "derived_parameters_range_07_window_09.csv\n",
      "derived_parameters_range_07_window_10.csv\n",
      "derived_parameters_range_07_window_11.csv\n",
      "derived_parameters_range_07_window_12.csv\n",
      "derived_parameters_range_07_window_13.csv\n",
      "derived_parameters_range_07_window_14.csv\n",
      "derived_parameters_range_07_window_15.csv\n",
      "derived_parameters_range_07_window_16.csv\n",
      "derived_parameters_range_07_window_17.csv\n",
      "derived_parameters_range_07_window_18.csv\n",
      "derived_parameters_range_07_window_19.csv\n",
      "derived_parameters_range_07_window_20.csv\n",
      "derived_parameters_range_07_window_21.csv\n",
      "derived_parameters_range_07_window_22.csv\n",
      "derived_parameters_range_08_window_00.csv\n",
      "derived_parameters_range_08_window_01.csv\n",
      "derived_parameters_range_08_window_02.csv\n",
      "derived_parameters_range_08_window_03.csv\n",
      "derived_parameters_range_08_window_04.csv\n",
      "derived_parameters_range_08_window_05.csv\n",
      "derived_parameters_range_08_window_06.csv\n",
      "derived_parameters_range_08_window_07.csv\n",
      "derived_parameters_range_08_window_08.csv\n",
      "derived_parameters_range_08_window_09.csv\n",
      "derived_parameters_range_08_window_10.csv\n",
      "derived_parameters_range_08_window_11.csv\n",
      "derived_parameters_range_08_window_12.csv\n",
      "derived_parameters_range_08_window_13.csv\n",
      "derived_parameters_range_08_window_14.csv\n",
      "derived_parameters_range_08_window_15.csv\n",
      "derived_parameters_range_08_window_16.csv\n",
      "derived_parameters_range_08_window_17.csv\n",
      "derived_parameters_range_08_window_18.csv\n",
      "derived_parameters_range_08_window_19.csv\n",
      "derived_parameters_range_09_window_00.csv\n",
      "derived_parameters_range_09_window_01.csv\n",
      "derived_parameters_range_09_window_02.csv\n",
      "derived_parameters_range_09_window_03.csv\n",
      "derived_parameters_range_09_window_04.csv\n",
      "derived_parameters_range_09_window_05.csv\n",
      "derived_parameters_range_09_window_06.csv\n",
      "derived_parameters_range_09_window_07.csv\n",
      "derived_parameters_range_09_window_08.csv\n",
      "derived_parameters_range_09_window_09.csv\n",
      "derived_parameters_range_09_window_10.csv\n",
      "derived_parameters_range_09_window_11.csv\n",
      "derived_parameters_range_09_window_12.csv\n",
      "derived_parameters_range_09_window_13.csv\n",
      "derived_parameters_range_09_window_14.csv\n",
      "derived_parameters_range_09_window_15.csv\n",
      "derived_parameters_range_09_window_16.csv\n",
      "derived_parameters_range_09_window_17.csv\n",
      "derived_parameters_range_10_window_00.csv\n",
      "derived_parameters_range_10_window_01.csv\n",
      "derived_parameters_range_10_window_02.csv\n",
      "derived_parameters_range_10_window_03.csv\n",
      "derived_parameters_range_10_window_04.csv\n",
      "derived_parameters_range_10_window_05.csv\n",
      "derived_parameters_range_10_window_06.csv\n",
      "derived_parameters_range_10_window_07.csv\n",
      "derived_parameters_range_10_window_08.csv\n",
      "derived_parameters_range_10_window_09.csv\n",
      "derived_parameters_range_10_window_10.csv\n",
      "derived_parameters_range_10_window_11.csv\n",
      "derived_parameters_range_10_window_12.csv\n",
      "derived_parameters_range_10_window_13.csv\n",
      "derived_parameters_range_10_window_14.csv\n",
      "derived_parameters_range_10_window_15.csv\n",
      "derived_parameters_range_10_window_16.csv\n",
      "derived_parameters_range_10_window_17.csv\n",
      "derived_parameters_range_10_window_18.csv\n",
      "derived_parameters_range_10_window_19.csv\n",
      "derived_parameters_range_10_window_20.csv\n",
      "derived_parameters_range_11_window_00.csv\n",
      "derived_parameters_range_11_window_01.csv\n",
      "derived_parameters_range_11_window_02.csv\n",
      "derived_parameters_range_11_window_03.csv\n",
      "derived_parameters_range_11_window_04.csv\n",
      "derived_parameters_range_11_window_05.csv\n",
      "derived_parameters_range_11_window_06.csv\n",
      "derived_parameters_range_11_window_07.csv\n",
      "derived_parameters_range_11_window_08.csv\n",
      "derived_parameters_range_11_window_09.csv\n",
      "derived_parameters_range_11_window_10.csv\n",
      "derived_parameters_range_11_window_11.csv\n",
      "derived_parameters_range_11_window_12.csv\n",
      "derived_parameters_range_11_window_13.csv\n",
      "derived_parameters_range_11_window_14.csv\n",
      "derived_parameters_range_11_window_15.csv\n",
      "derived_parameters_range_11_window_16.csv\n",
      "derived_parameters_range_11_window_17.csv\n",
      "derived_parameters_range_11_window_18.csv\n",
      "derived_parameters_range_11_window_19.csv\n",
      "derived_parameters_range_11_window_20.csv\n",
      "derived_parameters_range_12_window_00.csv\n",
      "derived_parameters_range_12_window_01.csv\n",
      "derived_parameters_range_12_window_02.csv\n",
      "derived_parameters_range_12_window_03.csv\n",
      "derived_parameters_range_12_window_04.csv\n",
      "derived_parameters_range_12_window_05.csv\n",
      "derived_parameters_range_12_window_06.csv\n",
      "derived_parameters_range_12_window_07.csv\n",
      "derived_parameters_range_12_window_08.csv\n",
      "derived_parameters_range_12_window_09.csv\n",
      "derived_parameters_range_12_window_10.csv\n",
      "derived_parameters_range_12_window_11.csv\n",
      "derived_parameters_range_12_window_12.csv\n",
      "derived_parameters_range_12_window_13.csv\n",
      "derived_parameters_range_12_window_14.csv\n",
      "derived_parameters_range_12_window_15.csv\n",
      "derived_parameters_range_12_window_16.csv\n",
      "derived_parameters_range_12_window_17.csv\n",
      "derived_parameters_range_12_window_18.csv\n",
      "derived_parameters_range_13_window_00.csv\n",
      "derived_parameters_range_13_window_01.csv\n",
      "derived_parameters_range_13_window_02.csv\n",
      "derived_parameters_range_13_window_03.csv\n",
      "derived_parameters_range_13_window_04.csv\n",
      "derived_parameters_range_13_window_05.csv\n",
      "derived_parameters_range_13_window_06.csv\n",
      "derived_parameters_range_13_window_07.csv\n",
      "derived_parameters_range_13_window_08.csv\n",
      "derived_parameters_range_13_window_09.csv\n",
      "derived_parameters_range_13_window_10.csv\n",
      "derived_parameters_range_13_window_11.csv\n",
      "derived_parameters_range_13_window_12.csv\n",
      "derived_parameters_range_13_window_13.csv\n",
      "derived_parameters_range_13_window_14.csv\n",
      "derived_parameters_range_13_window_15.csv\n",
      "derived_parameters_range_13_window_16.csv\n",
      "derived_parameters_range_13_window_17.csv\n",
      "derived_parameters_range_13_window_18.csv\n",
      "derived_parameters_range_14_window_00.csv\n",
      "derived_parameters_range_14_window_01.csv\n",
      "derived_parameters_range_14_window_02.csv\n",
      "derived_parameters_range_14_window_03.csv\n",
      "derived_parameters_range_14_window_04.csv\n",
      "derived_parameters_range_14_window_05.csv\n",
      "derived_parameters_range_14_window_06.csv\n",
      "derived_parameters_range_14_window_07.csv\n",
      "derived_parameters_range_14_window_08.csv\n",
      "derived_parameters_range_14_window_09.csv\n",
      "derived_parameters_range_14_window_10.csv\n",
      "derived_parameters_range_14_window_11.csv\n",
      "derived_parameters_range_14_window_12.csv\n",
      "derived_parameters_range_14_window_13.csv\n",
      "derived_parameters_range_17_window_00.csv\n",
      "derived_parameters_range_17_window_01.csv\n",
      "derived_parameters_range_17_window_02.csv\n",
      "derived_parameters_range_17_window_03.csv\n",
      "derived_parameters_range_17_window_04.csv\n",
      "derived_parameters_range_17_window_05.csv\n",
      "derived_parameters_range_17_window_06.csv\n",
      "derived_parameters_range_17_window_07.csv\n",
      "derived_parameters_range_17_window_08.csv\n",
      "derived_parameters_range_17_window_09.csv\n",
      "derived_parameters_range_17_window_10.csv\n",
      "derived_parameters_range_17_window_11.csv\n",
      "derived_parameters_range_17_window_12.csv\n",
      "derived_parameters_range_17_window_13.csv\n",
      "derived_parameters_range_17_window_14.csv\n",
      "derived_parameters_range_17_window_15.csv\n",
      "derived_parameters_range_17_window_16.csv\n",
      "derived_parameters_range_17_window_17.csv\n",
      "derived_parameters_range_17_window_18.csv\n",
      "derived_parameters_range_17_window_19.csv\n",
      "derived_parameters_range_17_window_20.csv\n",
      "derived_parameters_range_17_window_21.csv\n",
      "derived_parameters_range_17_window_22.csv\n",
      "derived_parameters_range_18_window_00.csv\n",
      "derived_parameters_range_18_window_01.csv\n",
      "derived_parameters_range_18_window_02.csv\n",
      "derived_parameters_range_18_window_03.csv\n",
      "derived_parameters_range_18_window_04.csv\n",
      "derived_parameters_range_18_window_05.csv\n",
      "derived_parameters_range_18_window_06.csv\n",
      "derived_parameters_range_18_window_07.csv\n",
      "derived_parameters_range_18_window_08.csv\n",
      "derived_parameters_range_18_window_09.csv\n",
      "derived_parameters_range_18_window_10.csv\n",
      "derived_parameters_range_18_window_11.csv\n",
      "derived_parameters_range_18_window_12.csv\n",
      "derived_parameters_range_18_window_13.csv\n",
      "derived_parameters_range_18_window_14.csv\n",
      "derived_parameters_range_18_window_15.csv\n",
      "derived_parameters_range_18_window_16.csv\n",
      "derived_parameters_range_18_window_17.csv\n",
      "derived_parameters_range_18_window_18.csv\n",
      "derived_parameters_range_18_window_19.csv\n",
      "derived_parameters_range_18_window_20.csv\n",
      "derived_parameters_range_18_window_21.csv\n",
      "derived_parameters_range_18_window_22.csv\n",
      "derived_parameters_range_19_window_00.csv\n",
      "derived_parameters_range_19_window_01.csv\n",
      "derived_parameters_range_19_window_02.csv\n",
      "derived_parameters_range_19_window_03.csv\n",
      "derived_parameters_range_19_window_04.csv\n",
      "derived_parameters_range_19_window_05.csv\n",
      "derived_parameters_range_19_window_06.csv\n",
      "derived_parameters_range_19_window_07.csv\n",
      "derived_parameters_range_19_window_08.csv\n",
      "derived_parameters_range_19_window_09.csv\n",
      "derived_parameters_range_19_window_10.csv\n",
      "derived_parameters_range_19_window_11.csv\n",
      "derived_parameters_range_19_window_12.csv\n",
      "derived_parameters_range_19_window_13.csv\n",
      "derived_parameters_range_19_window_14.csv\n",
      "derived_parameters_range_19_window_15.csv\n",
      "derived_parameters_range_19_window_16.csv\n",
      "derived_parameters_range_19_window_17.csv\n",
      "derived_parameters_range_19_window_18.csv\n",
      "derived_parameters_range_19_window_19.csv\n",
      "derived_parameters_range_19_window_20.csv\n",
      "derived_parameters_range_20_window_00.csv\n",
      "derived_parameters_range_20_window_01.csv\n",
      "derived_parameters_range_20_window_02.csv\n",
      "derived_parameters_range_20_window_03.csv\n",
      "derived_parameters_range_20_window_04.csv\n",
      "derived_parameters_range_20_window_05.csv\n",
      "derived_parameters_range_20_window_06.csv\n",
      "derived_parameters_range_20_window_07.csv\n",
      "derived_parameters_range_20_window_08.csv\n",
      "derived_parameters_range_20_window_09.csv\n",
      "derived_parameters_range_20_window_10.csv\n",
      "derived_parameters_range_20_window_11.csv\n",
      "derived_parameters_range_20_window_12.csv\n",
      "derived_parameters_range_20_window_13.csv\n",
      "derived_parameters_range_20_window_14.csv\n",
      "derived_parameters_range_20_window_15.csv\n",
      "derived_parameters_range_20_window_16.csv\n",
      "derived_parameters_range_20_window_17.csv\n",
      "derived_parameters_range_20_window_18.csv\n",
      "derived_parameters_range_20_window_19.csv\n",
      "derived_parameters_range_20_window_20.csv\n",
      "derived_parameters_range_20_window_21.csv\n",
      "derived_parameters_range_20_window_22.csv\n",
      "derived_parameters_range_21_window_00.csv\n",
      "derived_parameters_range_21_window_01.csv\n",
      "derived_parameters_range_21_window_02.csv\n",
      "derived_parameters_range_21_window_03.csv\n",
      "derived_parameters_range_21_window_04.csv\n",
      "derived_parameters_range_21_window_05.csv\n",
      "derived_parameters_range_21_window_06.csv\n",
      "derived_parameters_range_21_window_07.csv\n",
      "derived_parameters_range_21_window_08.csv\n",
      "derived_parameters_range_21_window_09.csv\n",
      "derived_parameters_range_21_window_10.csv\n",
      "derived_parameters_range_21_window_11.csv\n",
      "derived_parameters_range_21_window_12.csv\n",
      "derived_parameters_range_21_window_13.csv\n",
      "derived_parameters_range_21_window_14.csv\n",
      "derived_parameters_range_21_window_15.csv\n",
      "derived_parameters_range_21_window_16.csv\n",
      "derived_parameters_range_21_window_17.csv\n",
      "derived_parameters_range_21_window_18.csv\n",
      "derived_parameters_range_21_window_19.csv\n",
      "derived_parameters_range_21_window_20.csv\n",
      "derived_parameters_range_21_window_21.csv\n",
      "derived_parameters_range_21_window_22.csv\n",
      "derived_parameters_range_22_window_00.csv\n",
      "derived_parameters_range_22_window_01.csv\n",
      "derived_parameters_range_22_window_02.csv\n",
      "derived_parameters_range_22_window_03.csv\n",
      "derived_parameters_range_22_window_04.csv\n",
      "derived_parameters_range_22_window_05.csv\n",
      "derived_parameters_range_22_window_06.csv\n",
      "derived_parameters_range_22_window_07.csv\n",
      "derived_parameters_range_22_window_08.csv\n",
      "derived_parameters_range_22_window_09.csv\n",
      "derived_parameters_range_22_window_10.csv\n",
      "derived_parameters_range_22_window_11.csv\n",
      "derived_parameters_range_22_window_12.csv\n",
      "derived_parameters_range_22_window_13.csv\n",
      "derived_parameters_range_22_window_14.csv\n",
      "derived_parameters_range_22_window_15.csv\n",
      "derived_parameters_range_22_window_16.csv\n",
      "derived_parameters_range_22_window_17.csv\n",
      "derived_parameters_range_22_window_18.csv\n",
      "derived_parameters_range_22_window_19.csv\n",
      "derived_parameters_range_22_window_20.csv\n",
      "derived_parameters_range_22_window_21.csv\n",
      "derived_parameters_range_22_window_22.csv\n",
      "derived_parameters_range_23_window_00.csv\n",
      "derived_parameters_range_23_window_01.csv\n",
      "derived_parameters_range_23_window_02.csv\n",
      "derived_parameters_range_23_window_03.csv\n",
      "derived_parameters_range_23_window_04.csv\n",
      "derived_parameters_range_23_window_05.csv\n",
      "derived_parameters_range_23_window_06.csv\n",
      "derived_parameters_range_23_window_07.csv\n",
      "derived_parameters_range_23_window_08.csv\n",
      "derived_parameters_range_23_window_09.csv\n",
      "derived_parameters_range_23_window_10.csv\n",
      "derived_parameters_range_23_window_11.csv\n",
      "derived_parameters_range_23_window_12.csv\n",
      "derived_parameters_range_23_window_13.csv\n",
      "derived_parameters_range_23_window_14.csv\n",
      "derived_parameters_range_23_window_15.csv\n",
      "derived_parameters_range_23_window_16.csv\n",
      "derived_parameters_range_23_window_17.csv\n",
      "derived_parameters_range_23_window_18.csv\n",
      "derived_parameters_range_23_window_19.csv\n",
      "derived_parameters_range_23_window_20.csv\n",
      "derived_parameters_range_23_window_21.csv\n",
      "derived_parameters_range_23_window_22.csv\n",
      "derived_parameters_range_24_window_00.csv\n",
      "derived_parameters_range_24_window_01.csv\n",
      "derived_parameters_range_24_window_02.csv\n",
      "derived_parameters_range_24_window_03.csv\n",
      "derived_parameters_range_24_window_04.csv\n",
      "derived_parameters_range_24_window_05.csv\n",
      "derived_parameters_range_24_window_06.csv\n",
      "derived_parameters_range_24_window_07.csv\n",
      "derived_parameters_range_24_window_08.csv\n",
      "derived_parameters_range_24_window_09.csv\n",
      "derived_parameters_range_24_window_10.csv\n",
      "derived_parameters_range_24_window_11.csv\n",
      "derived_parameters_range_24_window_12.csv\n",
      "derived_parameters_range_24_window_13.csv\n",
      "derived_parameters_range_24_window_14.csv\n",
      "derived_parameters_range_25_window_00.csv\n",
      "derived_parameters_range_25_window_01.csv\n",
      "derived_parameters_range_25_window_02.csv\n",
      "derived_parameters_range_25_window_03.csv\n",
      "derived_parameters_range_25_window_04.csv\n",
      "derived_parameters_range_25_window_05.csv\n",
      "derived_parameters_range_25_window_06.csv\n",
      "derived_parameters_range_25_window_07.csv\n",
      "derived_parameters_range_25_window_08.csv\n",
      "derived_parameters_range_25_window_09.csv\n",
      "derived_parameters_range_25_window_10.csv\n",
      "derived_parameters_range_26_window_00.csv\n",
      "derived_parameters_range_26_window_01.csv\n",
      "derived_parameters_range_26_window_02.csv\n",
      "derived_parameters_range_26_window_03.csv\n",
      "derived_parameters_range_26_window_04.csv\n",
      "derived_parameters_range_26_window_05.csv\n",
      "derived_parameters_range_26_window_06.csv\n",
      "derived_parameters_range_26_window_07.csv\n",
      "derived_parameters_range_26_window_08.csv\n",
      "derived_parameters_range_26_window_09.csv\n",
      "derived_parameters_range_26_window_10.csv\n",
      "derived_parameters_range_26_window_11.csv\n",
      "derived_parameters_range_26_window_12.csv\n",
      "derived_parameters_range_26_window_13.csv\n",
      "derived_parameters_range_26_window_14.csv\n",
      "derived_parameters_range_26_window_15.csv\n",
      "derived_parameters_range_26_window_16.csv\n",
      "derived_parameters_range_26_window_17.csv\n",
      "derived_parameters_range_26_window_18.csv\n",
      "derived_parameters_range_26_window_19.csv\n",
      "derived_parameters_range_26_window_20.csv\n",
      "derived_parameters_range_26_window_21.csv\n",
      "derived_parameters_range_26_window_22.csv\n",
      "derived_parameters_range_27_window_00.csv\n",
      "derived_parameters_range_27_window_01.csv\n",
      "derived_parameters_range_27_window_02.csv\n",
      "derived_parameters_range_27_window_03.csv\n",
      "derived_parameters_range_27_window_04.csv\n",
      "derived_parameters_range_27_window_05.csv\n",
      "derived_parameters_range_27_window_06.csv\n",
      "derived_parameters_range_27_window_07.csv\n",
      "derived_parameters_range_27_window_08.csv\n",
      "derived_parameters_range_27_window_09.csv\n",
      "derived_parameters_range_27_window_10.csv\n",
      "derived_parameters_range_27_window_11.csv\n",
      "derived_parameters_range_27_window_12.csv\n",
      "derived_parameters_range_27_window_13.csv\n",
      "derived_parameters_range_27_window_14.csv\n",
      "derived_parameters_range_27_window_15.csv\n",
      "derived_parameters_range_27_window_16.csv\n",
      "derived_parameters_range_27_window_17.csv\n",
      "derived_parameters_range_27_window_18.csv\n",
      "derived_parameters_range_27_window_19.csv\n",
      "derived_parameters_range_27_window_20.csv\n",
      "derived_parameters_range_27_window_21.csv\n",
      "derived_parameters_range_27_window_22.csv\n",
      "derived_parameters_range_28_window_00.csv\n",
      "derived_parameters_range_28_window_01.csv\n",
      "derived_parameters_range_28_window_02.csv\n",
      "derived_parameters_range_28_window_03.csv\n",
      "derived_parameters_range_28_window_04.csv\n",
      "derived_parameters_range_28_window_05.csv\n",
      "derived_parameters_range_28_window_06.csv\n",
      "derived_parameters_range_28_window_07.csv\n",
      "derived_parameters_range_28_window_08.csv\n",
      "derived_parameters_range_28_window_09.csv\n",
      "derived_parameters_range_28_window_10.csv\n",
      "derived_parameters_range_28_window_11.csv\n",
      "derived_parameters_range_28_window_12.csv\n",
      "derived_parameters_range_28_window_13.csv\n",
      "derived_parameters_range_28_window_14.csv\n",
      "derived_parameters_range_28_window_15.csv\n",
      "derived_parameters_range_29_window_00.csv\n",
      "derived_parameters_range_29_window_01.csv\n",
      "derived_parameters_range_29_window_02.csv\n",
      "derived_parameters_range_29_window_03.csv\n",
      "derived_parameters_range_29_window_04.csv\n",
      "derived_parameters_range_29_window_05.csv\n",
      "derived_parameters_range_29_window_06.csv\n",
      "derived_parameters_range_29_window_07.csv\n",
      "derived_parameters_range_29_window_08.csv\n",
      "derived_parameters_range_29_window_09.csv\n",
      "derived_parameters_range_29_window_10.csv\n",
      "derived_parameters_range_29_window_11.csv\n",
      "derived_parameters_range_29_window_12.csv\n",
      "derived_parameters_range_29_window_13.csv\n",
      "derived_parameters_range_29_window_14.csv\n",
      "derived_parameters_range_29_window_15.csv\n",
      "derived_parameters_range_29_window_16.csv\n",
      "derived_parameters_range_29_window_17.csv\n",
      "derived_parameters_range_29_window_18.csv\n",
      "derived_parameters_range_29_window_19.csv\n",
      "derived_parameters_range_29_window_20.csv\n",
      "derived_parameters_range_29_window_21.csv\n",
      "derived_parameters_range_29_window_22.csv\n",
      "derived_parameters_range_30_window_00.csv\n",
      "derived_parameters_range_30_window_01.csv\n",
      "derived_parameters_range_30_window_02.csv\n",
      "derived_parameters_range_30_window_03.csv\n",
      "derived_parameters_range_30_window_04.csv\n",
      "derived_parameters_range_30_window_05.csv\n",
      "derived_parameters_range_30_window_06.csv\n",
      "derived_parameters_range_30_window_07.csv\n",
      "derived_parameters_range_30_window_08.csv\n",
      "derived_parameters_range_30_window_09.csv\n",
      "derived_parameters_range_30_window_10.csv\n",
      "derived_parameters_range_30_window_11.csv\n",
      "derived_parameters_range_30_window_12.csv\n",
      "derived_parameters_range_30_window_13.csv\n",
      "derived_parameters_range_30_window_14.csv\n",
      "derived_parameters_range_30_window_15.csv\n",
      "derived_parameters_range_30_window_16.csv\n",
      "derived_parameters_range_30_window_17.csv\n",
      "derived_parameters_range_30_window_18.csv\n",
      "derived_parameters_range_30_window_19.csv\n",
      "derived_parameters_range_30_window_20.csv\n",
      "derived_parameters_range_30_window_21.csv\n",
      "derived_parameters_range_30_window_22.csv\n",
      "derived_parameters_range_31_window_00.csv\n",
      "derived_parameters_range_31_window_01.csv\n",
      "derived_parameters_range_31_window_02.csv\n",
      "derived_parameters_range_31_window_03.csv\n",
      "derived_parameters_range_31_window_04.csv\n",
      "derived_parameters_range_31_window_05.csv\n",
      "derived_parameters_range_31_window_06.csv\n",
      "derived_parameters_range_31_window_07.csv\n",
      "derived_parameters_range_31_window_08.csv\n",
      "derived_parameters_range_31_window_09.csv\n",
      "derived_parameters_range_31_window_10.csv\n",
      "derived_parameters_range_31_window_11.csv\n",
      "derived_parameters_range_31_window_12.csv\n",
      "derived_parameters_range_31_window_13.csv\n",
      "derived_parameters_range_31_window_14.csv\n",
      "derived_parameters_range_31_window_15.csv\n",
      "derived_parameters_range_31_window_16.csv\n",
      "derived_parameters_range_31_window_17.csv\n",
      "derived_parameters_range_31_window_18.csv\n",
      "derived_parameters_range_31_window_19.csv\n",
      "derived_parameters_range_31_window_20.csv\n",
      "derived_parameters_range_31_window_21.csv\n",
      "derived_parameters_range_31_window_22.csv\n",
      "derived_parameters_range_32_window_00.csv\n",
      "derived_parameters_range_32_window_01.csv\n",
      "derived_parameters_range_32_window_02.csv\n",
      "derived_parameters_range_32_window_03.csv\n",
      "derived_parameters_range_32_window_04.csv\n",
      "derived_parameters_range_32_window_05.csv\n",
      "derived_parameters_range_32_window_06.csv\n",
      "derived_parameters_range_32_window_07.csv\n",
      "derived_parameters_range_32_window_08.csv\n",
      "derived_parameters_range_32_window_09.csv\n",
      "derived_parameters_range_32_window_10.csv\n",
      "derived_parameters_range_32_window_11.csv\n",
      "derived_parameters_range_32_window_12.csv\n",
      "derived_parameters_range_32_window_13.csv\n",
      "derived_parameters_range_32_window_14.csv\n",
      "derived_parameters_range_32_window_15.csv\n",
      "derived_parameters_range_32_window_16.csv\n",
      "derived_parameters_range_32_window_17.csv\n",
      "derived_parameters_range_32_window_18.csv\n",
      "derived_parameters_range_32_window_19.csv\n",
      "derived_parameters_range_32_window_20.csv\n",
      "derived_parameters_range_32_window_21.csv\n",
      "derived_parameters_range_32_window_22.csv\n",
      "derived_parameters_range_33_window_00.csv\n",
      "derived_parameters_range_33_window_01.csv\n",
      "derived_parameters_range_33_window_02.csv\n",
      "derived_parameters_range_33_window_03.csv\n",
      "derived_parameters_range_33_window_04.csv\n",
      "derived_parameters_range_33_window_05.csv\n",
      "derived_parameters_range_33_window_06.csv\n",
      "derived_parameters_range_33_window_07.csv\n",
      "derived_parameters_range_33_window_08.csv\n",
      "derived_parameters_range_33_window_09.csv\n",
      "derived_parameters_range_33_window_10.csv\n",
      "derived_parameters_range_33_window_11.csv\n",
      "derived_parameters_range_33_window_12.csv\n",
      "derived_parameters_range_33_window_13.csv\n",
      "derived_parameters_range_33_window_14.csv\n",
      "derived_parameters_range_33_window_15.csv\n",
      "derived_parameters_range_33_window_16.csv\n",
      "derived_parameters_range_33_window_17.csv\n",
      "derived_parameters_range_33_window_18.csv\n",
      "derived_parameters_range_33_window_19.csv\n",
      "derived_parameters_range_33_window_20.csv\n",
      "derived_parameters_range_33_window_21.csv\n",
      "derived_parameters_range_33_window_22.csv\n",
      "derived_parameters_range_34_window_00.csv\n",
      "derived_parameters_range_34_window_01.csv\n",
      "derived_parameters_range_34_window_02.csv\n",
      "derived_parameters_range_34_window_03.csv\n",
      "derived_parameters_range_34_window_04.csv\n",
      "derived_parameters_range_34_window_05.csv\n",
      "derived_parameters_range_34_window_06.csv\n",
      "derived_parameters_range_34_window_07.csv\n",
      "derived_parameters_range_34_window_08.csv\n",
      "derived_parameters_range_34_window_09.csv\n",
      "derived_parameters_range_34_window_10.csv\n",
      "derived_parameters_range_34_window_11.csv\n",
      "derived_parameters_range_34_window_12.csv\n",
      "derived_parameters_range_34_window_13.csv\n",
      "derived_parameters_range_34_window_14.csv\n",
      "derived_parameters_range_34_window_15.csv\n",
      "derived_parameters_range_34_window_16.csv\n",
      "derived_parameters_range_34_window_17.csv\n",
      "derived_parameters_range_35_window_00.csv\n",
      "derived_parameters_range_35_window_01.csv\n",
      "derived_parameters_range_35_window_02.csv\n",
      "derived_parameters_range_35_window_03.csv\n",
      "derived_parameters_range_35_window_04.csv\n",
      "derived_parameters_range_35_window_05.csv\n",
      "derived_parameters_range_35_window_06.csv\n",
      "derived_parameters_range_35_window_07.csv\n",
      "derived_parameters_range_35_window_08.csv\n",
      "derived_parameters_range_35_window_09.csv\n",
      "derived_parameters_range_35_window_10.csv\n",
      "derived_parameters_range_35_window_11.csv\n",
      "derived_parameters_range_35_window_12.csv\n",
      "derived_parameters_range_35_window_13.csv\n",
      "derived_parameters_range_35_window_14.csv\n",
      "derived_parameters_range_35_window_15.csv\n",
      "derived_parameters_range_35_window_16.csv\n",
      "derived_parameters_range_35_window_17.csv\n",
      "derived_parameters_range_36_window_00.csv\n",
      "derived_parameters_range_36_window_01.csv\n",
      "derived_parameters_range_36_window_02.csv\n",
      "derived_parameters_range_36_window_03.csv\n",
      "derived_parameters_range_36_window_04.csv\n",
      "derived_parameters_range_36_window_05.csv\n",
      "derived_parameters_range_36_window_06.csv\n",
      "derived_parameters_range_36_window_07.csv\n",
      "derived_parameters_range_36_window_08.csv\n",
      "derived_parameters_range_36_window_09.csv\n",
      "derived_parameters_range_36_window_10.csv\n",
      "derived_parameters_range_36_window_11.csv\n",
      "derived_parameters_range_36_window_12.csv\n",
      "derived_parameters_range_36_window_13.csv\n",
      "derived_parameters_range_37_window_00.csv\n",
      "derived_parameters_range_37_window_01.csv\n",
      "derived_parameters_range_37_window_02.csv\n",
      "derived_parameters_range_37_window_03.csv\n",
      "derived_parameters_range_37_window_04.csv\n",
      "derived_parameters_range_37_window_05.csv\n",
      "derived_parameters_range_37_window_06.csv\n",
      "derived_parameters_range_37_window_07.csv\n",
      "derived_parameters_range_37_window_08.csv\n",
      "derived_parameters_range_39_window_00.csv\n",
      "derived_parameters_range_39_window_01.csv\n",
      "derived_parameters_range_39_window_02.csv\n",
      "derived_parameters_range_39_window_03.csv\n",
      "derived_parameters_range_39_window_04.csv\n",
      "derived_parameters_range_39_window_05.csv\n",
      "derived_parameters_range_39_window_06.csv\n",
      "derived_parameters_range_39_window_07.csv\n",
      "derived_parameters_range_39_window_08.csv\n",
      "derived_parameters_range_39_window_09.csv\n",
      "derived_parameters_range_39_window_10.csv\n",
      "derived_parameters_range_39_window_11.csv\n",
      "derived_parameters_range_40_window_00.csv\n",
      "derived_parameters_range_40_window_01.csv\n",
      "derived_parameters_range_41_window_00.csv\n",
      "derived_parameters_range_41_window_01.csv\n",
      "derived_parameters_range_41_window_02.csv\n",
      "derived_parameters_range_41_window_03.csv\n",
      "derived_parameters_range_41_window_04.csv\n",
      "derived_parameters_range_41_window_05.csv\n",
      "derived_parameters_range_41_window_06.csv\n",
      "derived_parameters_range_41_window_07.csv\n",
      "Elsässer.png\n",
      "functions.py\n",
      "high_sigma_low_beta_windows.csv\n",
      "LICENSE\n",
      "magnetic_and_velocity.png\n",
      "main_scale.ipynb\n",
      "paos.colorado.edu\n",
      "psp_data\n",
      "PSP_fastRadialScans.txt\n",
      "__pycache__\n",
      "README.md\n",
      "scaled_data.ipynb\n",
      "scaled.ipynb\n",
      "Tasks.ipynb\n",
      "test1.ipynb\n",
      "testing_phase.ipynb\n",
      "Untitled.ipynb\n",
      "venv.yml\n",
      "wavelet_tutorial.ipynb\n",
      "welch.png\n"
     ]
    }
   ],
   "source": [
    "import os\n",
    "print(os.getcwd())\n",
    "import sys \n",
    "print(sys.path)\n",
    "!ls"
   ]
  },
  {
   "cell_type": "code",
   "execution_count": null,
   "id": "f95c1989-87cf-406b-8dc9-26d97320f4d3",
   "metadata": {},
   "outputs": [],
   "source": []
  },
  {
   "cell_type": "code",
   "execution_count": null,
   "id": "f47d1e09-1f53-473a-8908-b85af25d6a39",
   "metadata": {},
   "outputs": [],
   "source": []
  }
 ],
 "metadata": {
  "kernelspec": {
   "display_name": "Python 3 (ipykernel)",
   "language": "python",
   "name": "python3"
  },
  "language_info": {
   "codemirror_mode": {
    "name": "ipython",
    "version": 3
   },
   "file_extension": ".py",
   "mimetype": "text/x-python",
   "name": "python",
   "nbconvert_exporter": "python",
   "pygments_lexer": "ipython3",
   "version": "3.11.5"
  }
 },
 "nbformat": 4,
 "nbformat_minor": 5
}
